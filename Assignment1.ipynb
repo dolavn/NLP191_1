{
 "cells": [
  {
   "cell_type": "markdown",
   "metadata": {},
   "source": [
    "# Topics in Natural Language Processing 2019 - Assignment 1\n",
    "### Dolav Nitay - 203598990"
   ]
  },
  {
   "cell_type": "code",
   "execution_count": 1,
   "metadata": {},
   "outputs": [],
   "source": [
    "import nltk, re, pprint\n",
    "import numpy as np\n",
    "from nltk import word_tokenize,sent_tokenize,regexp_tokenize\n",
    "from collections import Counter, defaultdict\n",
    "from typing import List, Dict, Set, Callable, Tuple"
   ]
  },
  {
   "cell_type": "markdown",
   "metadata": {},
   "source": [
    "## Part 1 - Language models\n",
    "\n",
    "### 1.1.1 Gathering and cleaning up the data\n",
    "We want to be able to clean up our data, before being able to perform any meaningful task on it, like language model creation. \n",
    "Let's have a look first on raw text, and see how it looks. Let's have a look on some of Shakespeare works."
   ]
  },
  {
   "cell_type": "code",
   "execution_count": 213,
   "metadata": {},
   "outputs": [
    {
     "name": "stdout",
     "output_type": "stream",
     "text": [
      "First Citizen:\n",
      "Before we proceed any further, hear me speak.\n",
      "\n",
      "All:\n",
      "Speak, speak.\n",
      "\n",
      "First Citizen:\n",
      "You are all resolved rather to die than to famish?\n",
      "\n",
      "All:\n",
      "Resolved. resolved.\n",
      "\n",
      "First Citizen:\n",
      "First, you know Caius Marcius is chief enemy to the people.\n",
      "\n",
      "All:\n",
      "We know't, we know't.\n",
      "\n",
      "First Citizen:\n",
      "Let us kill him, and we'll have corn at our own price.\n",
      "Is't a verdict?\n",
      "\n",
      "All:\n",
      "No more talking on't; let it be done: away, away!\n",
      "\n",
      "Second Citizen:\n",
      "One word, good citizens.\n",
      "\n",
      "First Citizen:\n",
      "We are accounted poor\n"
     ]
    }
   ],
   "source": [
    "text = open('shakespeare_input.txt').read()\n",
    "print((text[:500]))"
   ]
  },
  {
   "cell_type": "markdown",
   "metadata": {},
   "source": [
    "We need to tokenize our text first. We can use the sent_tokenize and word_tokenize methods from the nltk library to do that. The sent_tokenize method will split our text to a list of sentences, and then we'd be able to use to word_tokenize method on each sentence to split it to a list of word tokens."
   ]
  },
  {
   "cell_type": "code",
   "execution_count": 214,
   "metadata": {},
   "outputs": [],
   "source": [
    "sent_list = sent_tokenize(text)\n",
    "for i, sent in enumerate(sent_list):\n",
    "    sent_list[i] = word_tokenize(sent)"
   ]
  },
  {
   "cell_type": "markdown",
   "metadata": {},
   "source": [
    "Let's now see how are text looks after tokenization, where every sentence is in a different line."
   ]
  },
  {
   "cell_type": "code",
   "execution_count": 215,
   "metadata": {},
   "outputs": [
    {
     "name": "stdout",
     "output_type": "stream",
     "text": [
      "First Citizen : Before we proceed any further , hear me speak .\n",
      "All : Speak , speak .\n",
      "First Citizen : You are all resolved rather to die than to famish ?\n",
      "All : Resolved .\n",
      "resolved .\n",
      "First Citizen : First , you know Caius Marcius is chief enemy to the people .\n",
      "All : We know't , we know't .\n",
      "First Citizen : Let us kill him , and we 'll have corn at our own price .\n",
      "Is't a verdict ?\n",
      "All : No more talking o n't ; let it be done : away , away !\n",
      "Second Citizen : One word , good citizens .\n",
      "First Citizen : We are accounted poor citizens , the patricians good .\n",
      "What authority surfeits on would relieve us : if they would yield us but the superfluity , while it were wholesome , we might guess they relieved us humanely ; but they think we are too dear : the leanness that afflicts us , the object of our misery , is as an inventory to particularise their abundance ; our sufferance is a gain to them Let us revenge this with our pikes , ere we become rakes : for the gods know I speak this in hunger for bread , not in thirst for revenge .\n",
      "Second Citizen : Would you proceed especially against Caius Marcius ?\n",
      "All : Against him first : he 's a very dog to the commonalty .\n"
     ]
    }
   ],
   "source": [
    "print('\\n'.join([' '.join(sent) for sent in sent_list[:15]]))"
   ]
  },
  {
   "cell_type": "markdown",
   "metadata": {},
   "source": [
    "We can see that the tokenizer split we'll to we and 'll. But the tokenizer didn't split know't to know it, or know 't. Looks like the word tokenizer method of the nltk library is having a hard time with Shakespearean English. Let's now write methods for cleaning all punctuations from our text.\n",
    "First, let's define some helper functions, to help us find out if a token is a number, and to clean all the punctuations from our data."
   ]
  },
  {
   "cell_type": "code",
   "execution_count": 216,
   "metadata": {},
   "outputs": [],
   "source": [
    "def removePunctuations(input: List[str]) -> List[str]:\n",
    "    return list(filter(lambda word: word not in '()...,:--?!;\\``\\'\\'', input))"
   ]
  },
  {
   "cell_type": "markdown",
   "metadata": {},
   "source": [
    "Let's use this method on our tokenized text:"
   ]
  },
  {
   "cell_type": "code",
   "execution_count": 217,
   "metadata": {},
   "outputs": [
    {
     "name": "stdout",
     "output_type": "stream",
     "text": [
      "First Citizen Before we proceed any further hear me speak\n",
      "All Speak speak\n",
      "First Citizen You are all resolved rather to die than to famish\n",
      "All Resolved\n",
      "resolved\n",
      "First Citizen First you know Caius Marcius is chief enemy to the people\n",
      "All We know't we know't\n",
      "First Citizen Let us kill him and we 'll have corn at our own price\n",
      "Is't a verdict\n",
      "All No more talking o n't let it be done away away\n",
      "Second Citizen One word good citizens\n",
      "First Citizen We are accounted poor citizens the patricians good\n",
      "What authority surfeits on would relieve us if they would yield us but the superfluity while it were wholesome we might guess they relieved us humanely but they think we are too dear the leanness that afflicts us the object of our misery is as an inventory to particularise their abundance our sufferance is a gain to them Let us revenge this with our pikes ere we become rakes for the gods know I speak this in hunger for bread not in thirst for revenge\n",
      "Second Citizen Would you proceed especially against Caius Marcius\n",
      "All Against him first he 's a very dog to the commonalty\n"
     ]
    }
   ],
   "source": [
    "sent_list = [removePunctuations(sent) for sent in sent_list]\n",
    "print('\\n'.join([' '.join(sent) for sent in sent_list[:15]]))"
   ]
  },
  {
   "cell_type": "markdown",
   "metadata": {},
   "source": [
    "Before counting words, we want all our words in our data to be lower case, so not to count a word more than once by being case-sensitive."
   ]
  },
  {
   "cell_type": "code",
   "execution_count": 218,
   "metadata": {},
   "outputs": [
    {
     "name": "stdout",
     "output_type": "stream",
     "text": [
      "first citizen before we proceed any further hear me speak\n",
      "all speak speak\n",
      "first citizen you are all resolved rather to die than to famish\n",
      "all resolved\n",
      "resolved\n",
      "first citizen first you know caius marcius is chief enemy to the people\n",
      "all we know't we know't\n",
      "first citizen let us kill him and we 'll have corn at our own price\n",
      "is't a verdict\n",
      "all no more talking o n't let it be done away away\n",
      "second citizen one word good citizens\n",
      "first citizen we are accounted poor citizens the patricians good\n",
      "what authority surfeits on would relieve us if they would yield us but the superfluity while it were wholesome we might guess they relieved us humanely but they think we are too dear the leanness that afflicts us the object of our misery is as an inventory to particularise their abundance our sufferance is a gain to them let us revenge this with our pikes ere we become rakes for the gods know i speak this in hunger for bread not in thirst for revenge\n",
      "second citizen would you proceed especially against caius marcius\n",
      "all against him first he 's a very dog to the commonalty\n"
     ]
    }
   ],
   "source": [
    "sent_list = [[word.lower() for word in sent] for sent in sent_list]\n",
    "print('\\n'.join([' '.join(sent) for sent in sent_list[:15]]))"
   ]
  },
  {
   "cell_type": "markdown",
   "metadata": {},
   "source": [
    "That looks better. We also need to swap all numbers by the token N, let's do that. Even though there are no numbers in our Shakespearean texts."
   ]
  },
  {
   "cell_type": "code",
   "execution_count": 219,
   "metadata": {},
   "outputs": [],
   "source": [
    "def isNumber(input: str) -> bool:\n",
    "    try:\n",
    "        float(input)\n",
    "        return True\n",
    "    except ValueError:\n",
    "        return False"
   ]
  },
  {
   "cell_type": "code",
   "execution_count": 220,
   "metadata": {},
   "outputs": [],
   "source": [
    "for ind, sent in enumerate(sent_list):\n",
    "    for w_ind, word in enumerate(sent_list[ind]):\n",
    "        if isNumber(word):\n",
    "            sent_list[ind][w_ind] = 'N'"
   ]
  },
  {
   "cell_type": "markdown",
   "metadata": {},
   "source": [
    "We want to filter out all the least common words. Let's keep only the top 10000 words, and replace the rest with the token <unk>. For that, we can use the counter data structure."
   ]
  },
  {
   "cell_type": "code",
   "execution_count": 221,
   "metadata": {},
   "outputs": [],
   "source": [
    "wordsCounter = Counter()\n",
    "for sent in sent_list:\n",
    "    for word in sent:\n",
    "        wordsCounter[word] = wordsCounter[word]+1"
   ]
  },
  {
   "cell_type": "markdown",
   "metadata": {},
   "source": [
    "Let's see the 10 most common words."
   ]
  },
  {
   "cell_type": "code",
   "execution_count": 222,
   "metadata": {},
   "outputs": [
    {
     "data": {
      "text/plain": [
       "[('the', 26187),\n",
       " ('and', 23521),\n",
       " ('i', 21761),\n",
       " ('to', 18100),\n",
       " ('of', 16359),\n",
       " ('you', 13739),\n",
       " ('a', 13479),\n",
       " ('my', 12001),\n",
       " ('that', 10868),\n",
       " ('in', 10304)]"
      ]
     },
     "execution_count": 222,
     "metadata": {},
     "output_type": "execute_result"
    }
   ],
   "source": [
    "wordsCounter.most_common(10)"
   ]
  },
  {
   "cell_type": "markdown",
   "metadata": {},
   "source": [
    "Let's filter all the words that do not appear in the top 10000 most common words."
   ]
  },
  {
   "cell_type": "code",
   "execution_count": 223,
   "metadata": {},
   "outputs": [],
   "source": [
    "common_words = [w for w,occ in wordsCounter.most_common(10000)]\n",
    "for ind,sent in enumerate(sent_list):\n",
    "    for w_ind,word in enumerate(sent_list[ind]):\n",
    "        if word not in common_words:\n",
    "            sent_list[ind][w_ind] = '<unk>'"
   ]
  },
  {
   "cell_type": "markdown",
   "metadata": {},
   "source": [
    "Let's have a look at the text again:"
   ]
  },
  {
   "cell_type": "code",
   "execution_count": 224,
   "metadata": {},
   "outputs": [
    {
     "name": "stdout",
     "output_type": "stream",
     "text": [
      "first citizen before we proceed any further hear me speak\n",
      "all speak speak\n",
      "first citizen you are all resolved rather to die than to famish\n",
      "all resolved\n",
      "resolved\n",
      "first citizen first you know caius marcius is chief enemy to the people\n",
      "all we know't we know't\n",
      "first citizen let us kill him and we 'll have corn at our own price\n",
      "is't a verdict\n",
      "all no more talking o n't let it be done away away\n",
      "second citizen one word good citizens\n",
      "first citizen we are accounted poor citizens the patricians good\n",
      "what authority surfeits on would relieve us if they would yield us but the superfluity while it were wholesome we might guess they relieved us <unk> but they think we are too dear the leanness that <unk> us the object of our misery is as an inventory to <unk> their abundance our sufferance is a gain to them let us revenge this with our pikes ere we become <unk> for the gods know i speak this in hunger for bread not in thirst for revenge\n",
      "second citizen would you proceed especially against caius marcius\n",
      "all against him first he 's a very dog to the <unk>\n"
     ]
    }
   ],
   "source": [
    "print('\\n'.join([' '.join(sent) for sent in sent_list[:15]]))"
   ]
  },
  {
   "cell_type": "markdown",
   "metadata": {},
   "source": [
    "We can see that \"humanely\" and a few other words weren't kept, and were filtered out.\n",
    "Let's define a general function for doing everything we've done with our shakespearean texts.\n",
    "We'll define the method ptb_preprocess, which given a list of files, does all the pre-processing we've mentioned before and outputs them in the ptb format."
   ]
  },
  {
   "cell_type": "code",
   "execution_count": 275,
   "metadata": {},
   "outputs": [],
   "source": [
    "def ptb_preprocess(filenames: List[str], top: int = 10000) -> None:\n",
    "    for file_name in filenames:\n",
    "        file = open(file_name, encoding='utf8', errors='ignore')\n",
    "        text = '\\n'.join(file)\n",
    "        sentences = sent_tokenize(text)\n",
    "        words = [word_tokenize(sentence) for sentence in sentences]\n",
    "        c = Counter()\n",
    "        for ind, sentence in enumerate(words):\n",
    "            words[ind] = removePunctuations(words[ind])\n",
    "            for w_ind, word in enumerate(words[ind]):\n",
    "                words[ind][w_ind] = words[ind][w_ind].lower()\n",
    "                if isNumber(word):\n",
    "                    words[ind][w_ind] = 'N'\n",
    "                word = words[ind][w_ind]\n",
    "                c[word] = c[word]+1\n",
    "        common_words = [w for w,occ in c.most_common(top)]\n",
    "        for sent_ind, sent in enumerate(words):\n",
    "            for word_ind, word in enumerate(sent):\n",
    "                if word not in common_words:\n",
    "                    words[sent_ind][word_ind] = '<unk>'\n",
    "        output = open(file_name + '.out', 'w',encoding='utf8', errors='ignore')\n",
    "        for sent in words:\n",
    "            output.write(' '.join(sent))\n",
    "            output.write('\\n')\n",
    "        output.close()\n",
    "\n"
   ]
  },
  {
   "cell_type": "markdown",
   "metadata": {},
   "source": [
    "Let's run this method on a corpus of shakespearean texts, to test how well it works."
   ]
  },
  {
   "cell_type": "code",
   "execution_count": 270,
   "metadata": {},
   "outputs": [],
   "source": [
    "ptb_preprocess([\"shakespeare_input.txt\"])"
   ]
  },
  {
   "cell_type": "markdown",
   "metadata": {},
   "source": [
    "Let's see how well it works."
   ]
  },
  {
   "cell_type": "code",
   "execution_count": 271,
   "metadata": {},
   "outputs": [
    {
     "name": "stdout",
     "output_type": "stream",
     "text": [
      "they would yield us but the superfluity while it were wholesome we might guess they relieved us <unk> but they\n"
     ]
    }
   ],
   "source": [
    "r = open(\"shakespeare_input.txt.out\").read().split()\n",
    "print(' '.join(r[100:120]))"
   ]
  },
  {
   "cell_type": "markdown",
   "metadata": {},
   "source": [
    "Let's try it now on the first Harry Potter book:"
   ]
  },
  {
   "cell_type": "code",
   "execution_count": 272,
   "metadata": {},
   "outputs": [],
   "source": [
    "ptb_preprocess([\"HarryPotter1.txt\"])"
   ]
  },
  {
   "cell_type": "code",
   "execution_count": 278,
   "metadata": {},
   "outputs": [
    {
     "name": "stdout",
     "output_type": "stream",
     "text": [
      "on the wall next to the cat he did n't look at it but after a moment he spoke to it fancy seeing you here professor mcgonagall he turned to smile at the tabby but it had gone instead he was smiling at a rather\n"
     ]
    }
   ],
   "source": [
    "r = open(\"HarryPotter1.txt.out\", encoding='utf8').read().split()\n",
    "print(' '.join(r[2530:2575]))"
   ]
  },
  {
   "cell_type": "markdown",
   "metadata": {},
   "source": [
    "We can see that our preprocessing removed qutoations and other punctuations, and also converted the entire text to lower case. Also we can observe tokenization of didn't to did and n't. The book doesn't have more than 10000 words (rather suprising) so we can't see the filtering of less common words, but we've already observed that with the shakespearean texts.\n",
    "Let's try it again on a different book. This time, one that contains a number in it's title."
   ]
  },
  {
   "cell_type": "code",
   "execution_count": 276,
   "metadata": {},
   "outputs": [],
   "source": [
    "ptb_preprocess(['catch22.txt'])"
   ]
  },
  {
   "cell_type": "code",
   "execution_count": 280,
   "metadata": {},
   "outputs": [
    {
     "name": "stdout",
     "output_type": "stream",
     "text": [
      "'of the fighting 256th squadron yossarian replied 'i did n't know there were any other captain yossarians as far as i know i 'm the only captain yossarian i know but that 's only as far as i know 'i see the chaplain said unhappily\n"
     ]
    }
   ],
   "source": [
    "r = open(\"catch22.txt.out\", encoding='utf8').read().split()\n",
    "print(' '.join(r[2530:2575]))"
   ]
  },
  {
   "cell_type": "markdown",
   "metadata": {},
   "source": [
    "We can see here a possible problem. Our preprocessing left the token 256th as it is, while perhaps we would have wanted to change it to the Nth."
   ]
  },
  {
   "cell_type": "markdown",
   "metadata": {},
   "source": [
    "### 1.1.2 Gathering basic statistics\n",
    "Now, let's gather some basic statistics about our data. We'll use the Penn Tree Bank (PTB) dataset, which has been pre-processed to the format we used in part 1.1.1"
   ]
  },
  {
   "cell_type": "code",
   "execution_count": 5,
   "metadata": {},
   "outputs": [],
   "source": [
    "import matplotlib.pyplot as plt\n",
    "import matplotlib\n",
    "%matplotlib inline"
   ]
  },
  {
   "cell_type": "markdown",
   "metadata": {},
   "source": [
    "We'll create a method for reading the ptb data. The method will return the data in an a dictionary, which will contain the list of all the words and characters in the dataset, for easy implementation of n-gram training, and also a list of all the sentences in the dataset. The method will also return a counter object for characters and words for statistics."
   ]
  },
  {
   "cell_type": "code",
   "execution_count": 6,
   "metadata": {},
   "outputs": [],
   "source": [
    "def read_data(name: str) -> Dict:\n",
    "    words_data = open(\"ptb/ptb.\" + name + \".txt\", \"r\", encoding=\"utf8\").read()\n",
    "    chars_data = open(\"ptb/ptb.char.\" + name + \".txt\", \"r\", encoding=\"utf8\").read()\n",
    "    sentences_data = words_data.split('\\n')\n",
    "    sentences_data = [sentence.split() for sentence in sentences_data]\n",
    "    words_tokens = words_data.split()\n",
    "    chars_tokens = chars_data.split()\n",
    "    words_counter = Counter(words_tokens)\n",
    "    chars_counter = Counter(chars_tokens)\n",
    "    words_set = set(words_tokens)\n",
    "    return {'data': words_data, 'words': words_tokens, 'counter': words_counter, 'set': words_set,\n",
    "           'sentences': sentences_data, 'chars': chars_tokens, 'char_counter': chars_counter}\n"
   ]
  },
  {
   "cell_type": "markdown",
   "metadata": {},
   "source": [
    "Now, let's read the training, test and validation data."
   ]
  },
  {
   "cell_type": "code",
   "execution_count": 7,
   "metadata": {},
   "outputs": [],
   "source": [
    "training_data = read_data(\"train\")\n",
    "test_data = read_data(\"test\")\n",
    "validation_data = read_data(\"valid\")"
   ]
  },
  {
   "cell_type": "markdown",
   "metadata": {},
   "source": [
    "First, let's count the number of unique tokens, using the counter object. And the total number of tokens in the training set. Also, let's count the total number of characters in this set, so to count average number of characters per word, and the standard deviation."
   ]
  },
  {
   "cell_type": "code",
   "execution_count": 13,
   "metadata": {},
   "outputs": [
    {
     "name": "stdout",
     "output_type": "stream",
     "text": [
      "Total number of words: 887521\n",
      "Unique number of words: 9999\n",
      "Average occurences of unique tokens: 88.76097609760976\n",
      "Total number of characters: 4975414\n",
      "Average length of each word: 4.653367075257938\n",
      "Standard deviation of word's length: 2.6019161500774306\n"
     ]
    }
   ],
   "source": [
    "print(\"Total number of words:\",len(training_data['words']))\n",
    "print(\"Unique number of words:\",len(training_data['counter']))\n",
    "print(\"Average occurences of unique tokens:\", float(len(training_data['words'])/len(training_data['counter'])))\n",
    "print(\"Total number of characters:\",len(training_data['chars']))\n",
    "print(\"Average length of each word:\",np.average([len(word) for word in training_data['words']]))\n",
    "print(\"Standard deviation of word's length:\",np.std([len(word) for word in training_data['words']]))"
   ]
  },
  {
   "cell_type": "markdown",
   "metadata": {},
   "source": [
    "Now we'll write a function, that will give us the total number of tokens corresponding to the top-N tokens in the data."
   ]
  },
  {
   "cell_type": "code",
   "execution_count": 14,
   "metadata": {},
   "outputs": [],
   "source": [
    "def top_N_tokens(n: int, data: Dict) -> int:\n",
    "    top_tokens = [word for word, count in data['counter'].most_common(n)]\n",
    "    filtered_list = list(filter(lambda word: word in top_tokens, data['words']))\n",
    "    return len(filtered_list)\n"
   ]
  },
  {
   "cell_type": "markdown",
   "metadata": {},
   "source": [
    "And we'll test this function on our training data:"
   ]
  },
  {
   "cell_type": "code",
   "execution_count": 15,
   "metadata": {},
   "outputs": [
    {
     "data": {
      "text/plain": [
       "251694"
      ]
     },
     "execution_count": 15,
     "metadata": {},
     "output_type": "execute_result"
    }
   ],
   "source": [
    "top_N_tokens(10, training_data)"
   ]
  },
  {
   "cell_type": "markdown",
   "metadata": {},
   "source": [
    "Now we'll see how much tokens are in the validation data, but not in the training data, using the set data structure of python."
   ]
  },
  {
   "cell_type": "code",
   "execution_count": 16,
   "metadata": {},
   "outputs": [
    {
     "data": {
      "text/plain": [
       "0"
      ]
     },
     "execution_count": 16,
     "metadata": {},
     "output_type": "execute_result"
    }
   ],
   "source": [
    "len(validation_data['set']-training_data['set'])"
   ]
  },
  {
   "cell_type": "markdown",
   "metadata": {},
   "source": [
    "That's good, all the tokens found in the validation data, also exist in the training data.\n",
    "\n",
    "Now we'll create a function to count n-grams, in order to get statistics about them."
   ]
  },
  {
   "cell_type": "code",
   "execution_count": 17,
   "metadata": {},
   "outputs": [],
   "source": [
    "def count_n_grams(n: int, data: List[str]) -> Dict:\n",
    "    n_gram_list = []\n",
    "    for i in range(len(data)-n):\n",
    "        n_gram_list.append(tuple(data[i:i+n]))\n",
    "    n_gram_counter = Counter(n_gram_list)\n",
    "    return {'list': n_gram_list, 'counter': n_gram_counter}\n"
   ]
  },
  {
   "cell_type": "markdown",
   "metadata": {},
   "source": [
    "Now let's count the number of distinct n-grams of characters and words in our data."
   ]
  },
  {
   "cell_type": "code",
   "execution_count": 18,
   "metadata": {},
   "outputs": [
    {
     "name": "stdout",
     "output_type": "stream",
     "text": [
      "Number of distinct words 2-grams is 277477\n",
      "Number of distinct characters 2-grams is 958\n",
      "Number of distinct words 3-grams is 615618\n",
      "Number of distinct characters 3-grams is 9418\n",
      "Number of distinct words 4-grams is 771492\n",
      "Number of distinct characters 4-grams is 48379\n",
      "Number of distinct words 5-grams is 825370\n",
      "Number of distinct characters 5-grams is 154572\n",
      "Number of distinct words 6-grams is 846671\n",
      "Number of distinct characters 6-grams is 369781\n",
      "Number of distinct words 7-grams is 856939\n",
      "Number of distinct characters 7-grams is 703050\n"
     ]
    }
   ],
   "source": [
    "for i in range(2,8):\n",
    "    c = count_n_grams(i, training_data['words'])['counter']\n",
    "    c2 = count_n_grams(i, training_data['chars'])['counter']\n",
    "    print(\"Number of distinct words {:d}-grams is {:d}\".format(i, len(c)))\n",
    "    print(\"Number of distinct characters {:d}-grams is {:d}\".format(i, len(c2)))"
   ]
  },
  {
   "cell_type": "markdown",
   "metadata": {},
   "source": [
    "We expect the word count distribution to follow power law distributions, which means the the plot of the log-distribution and the log-rang would be almost linear."
   ]
  },
  {
   "cell_type": "code",
   "execution_count": 286,
   "metadata": {},
   "outputs": [
    {
     "data": {
      "text/plain": [
       "Text(0,0.5,'frequency')"
      ]
     },
     "execution_count": 286,
     "metadata": {},
     "output_type": "execute_result"
    },
    {
     "data": {
      "image/png": "[encoded data removed]",
      "text/plain": [
       "<Figure size 432x288 with 1 Axes>"
      ]
     },
     "metadata": {
      "needs_background": "light"
     },
     "output_type": "display_data"
    }
   ],
   "source": [
    "plt.loglog([val for word,val in training_data['counter'].most_common(4000)])\n",
    "plt.xlabel('rank')\n",
    "plt.ylabel('frequency')"
   ]
  },
  {
   "cell_type": "markdown",
   "metadata": {},
   "source": [
    "It appears that the Penn Treebank dataset follow power law distribution, as the log log plot is almost linear."
   ]
  },
  {
   "cell_type": "markdown",
   "metadata": {},
   "source": [
    "### 1.2 $n$-gram word language model\n",
    "We'll now create an usmotheed maximum likelihood word level language level. The data structure we would use is a dictionary of dictionaries. Our top level dictionary will contain a mapping from ngrams to a distribution function of the words following that n-gram. That distribution function would be a dictionary itself, and would map from words to probabilities.\n",
    "\n",
    "We'll attempt two methods of training our language model. In the first, we'll look on each sentence as a distinct unit, and we'll train our language model on all sentences. And in the second method, we'll treat our entire corpus as one big sentence. We'll see which method gives us better perplexity."
   ]
  },
  {
   "cell_type": "code",
   "execution_count": 287,
   "metadata": {},
   "outputs": [],
   "source": [
    "from nltk.probability import FreqDist, LidstoneProbDist, MLEProbDist, ProbDistI\n",
    "\n",
    "def train_word_lm1(dataset: List[str], n: int = 2) -> Dict:\n",
    "    prob_map = defaultdict(FreqDist)\n",
    "    dataset = ['*']*n + dataset\n",
    "    for i in range(n, len(dataset)):\n",
    "        word, ngram = dataset[i], tuple(dataset[i-n:i])\n",
    "        prob_map[ngram][word] = prob_map[ngram][word]+1\n",
    "    return prob_map\n",
    "\n",
    "def train_word_lm2(dataset: List[List[str]], n: int = 2) -> Dict:\n",
    "    prob_map = defaultdict(FreqDist)\n",
    "    for sentence in dataset:\n",
    "        sentence = ['*']*n + sentence +['~']*n\n",
    "        for i in range(n, len(sentence)):\n",
    "            word, ngram = sentence[i], tuple(sentence[i-n:i])\n",
    "            prob_map[ngram][word] = prob_map[ngram][word]+1\n",
    "    return prob_map\n",
    "FIRST_N = 1\n",
    "LAST_N = 11\n",
    "vocab_len = len(training_data['counter'])"
   ]
  },
  {
   "cell_type": "code",
   "execution_count": 21,
   "metadata": {},
   "outputs": [],
   "source": [
    "models1 = [train_word_lm1(training_data['words'],i) for i in range(FIRST_N, LAST_N)]\n",
    "models2 = [train_word_lm2(training_data['sentences'],i) for i in range(FIRST_N,LAST_N)]"
   ]
  },
  {
   "cell_type": "markdown",
   "metadata": {},
   "source": [
    "### 1.3 Language model evaluation\n",
    "After creating our language model we can check how good it is using perplexity. But before we can do that, we must use smoothing on our model. Why? Right now if an $n$-gram didn't occour at all in our training set, it's probability will be 0, and we wouldn't be able to calculate the perplexity. One such smoothing method is the Lidstone smoothing method, in which we add $\\gamma$  ($0<\\gamma\\leq 1$) to the count of each event (Both seen and unseen events). \n",
    "We'll measure the perplexity of both our models for different value of $n$ and $\\gamma$, and use these tests to decide which model to use and with which parameters."
   ]
  },
  {
   "cell_type": "code",
   "execution_count": 22,
   "metadata": {},
   "outputs": [],
   "source": [
    "from math import log\n",
    "\n",
    "def get_entropy1(dataset: List[str], prob_funcs: List[Dict], gamma: float = 0, n: int=2) -> float:\n",
    "    dataset = ['*']*n + dataset\n",
    "    ans = 0\n",
    "    prob_func = prob_funcs[n-FIRST_N]\n",
    "    if n==0:\n",
    "        return -log(1/float(vocab_len), 2)\n",
    "    for i in range(n, len(dataset)):\n",
    "        word, ngram = dataset[i], tuple(dataset[i-n:i])\n",
    "        p = LidstoneProbDist(prob_func[ngram], gamma, bins=vocab_len)\n",
    "        ans = ans + log(p.prob(word), 2)\n",
    "    return -ans/(len(dataset)-n+1)\n",
    "\n",
    "def get_entropy2(dataset: List[List[str]], prob_funcs: List[Dict], gamma: float = 0, n: int=2) -> float:\n",
    "    ans = 0\n",
    "    total = 0\n",
    "    prob_func = prob_funcs[n-FIRST_N]\n",
    "    if n==0:\n",
    "        return -log(1/float(vocab_len), 2)\n",
    "    for sentence in dataset:\n",
    "        sentence = ['*']*n + sentence + ['~']*n\n",
    "        for i in range(n, len(sentence)):\n",
    "            word, ngram = sentence[i], tuple(sentence[i-n:i])\n",
    "            p = LidstoneProbDist(prob_func[ngram], gamma, bins=vocab_len)\n",
    "            ans = ans + log(p.prob(word), 2)\n",
    "            total = total+1\n",
    "    return -ans/(total)\n",
    "\n",
    "\n",
    "def get_perplexity1(dataset: List[str], prob_funcs: List[Dict], gamma: int = 1, n: int=FIRST_N) -> float:\n",
    "    return 2**get_entropy1(dataset, prob_funcs, gamma, n)\n",
    "\n",
    "def get_perplexity2(dataset: List[List[str]], prob_funcs: List[Dict], gamma: int = 1, n: int=FIRST_N) -> float:\n",
    "    return 2**get_entropy2(dataset, prob_funcs, gamma, n)\n",
    "\n"
   ]
  },
  {
   "cell_type": "code",
   "execution_count": 23,
   "metadata": {},
   "outputs": [
    {
     "data": {
      "text/plain": [
       "<matplotlib.legend.Legend at 0x233ee2a8208>"
      ]
     },
     "execution_count": 23,
     "metadata": {},
     "output_type": "execute_result"
    },
    {
     "data": {
      "image/png": "[encoded data removed]",
      "text/plain": [
       "<Figure size 432x288 with 1 Axes>"
      ]
     },
     "metadata": {
      "needs_background": "light"
     },
     "output_type": "display_data"
    }
   ],
   "source": [
    "gammas = [(i+1)/20 for i in range(20)]\n",
    "\n",
    "perplexities1 = [get_perplexity1(validation_data['words'], models1, gamma=i) for i in gammas]\n",
    "perplexities2 = [get_perplexity2(validation_data['sentences'], models2, gamma=i) for i in gammas]\n",
    "plt.xlabel('$\\gamma$')\n",
    "plt.ylabel('perplexity')\n",
    "plt.plot(gammas, perplexities1)\n",
    "plt.plot(gammas, perplexities2)\n",
    "plt.legend(['model1','model2'])\n"
   ]
  },
  {
   "cell_type": "code",
   "execution_count": 24,
   "metadata": {},
   "outputs": [
    {
     "data": {
      "text/plain": [
       "<matplotlib.legend.Legend at 0x2340bf4ee48>"
      ]
     },
     "execution_count": 24,
     "metadata": {},
     "output_type": "execute_result"
    },
    {
     "data": {
      "image/png": "[encoded data removed]",
      "text/plain": [
       "<Figure size 432x288 with 1 Axes>"
      ]
     },
     "metadata": {
      "needs_background": "light"
     },
     "output_type": "display_data"
    }
   ],
   "source": [
    "ns = range(FIRST_N,LAST_N)\n",
    "\n",
    "perplexities1 = [get_perplexity1(validation_data['words'], models1, n=i) for i in ns]\n",
    "perplexities2 = [get_perplexity2(validation_data['sentences'], models2, n=i) for i in ns]\n",
    "plt.xlabel('$n$')\n",
    "plt.ylabel('perplexity')\n",
    "plt.plot(ns, perplexities1)\n",
    "plt.plot(ns, perplexities2)\n",
    "plt.legend(['model1', 'model2'])\n"
   ]
  },
  {
   "cell_type": "markdown",
   "metadata": {},
   "source": [
    "Let's see what is the perplexity for a model which picks the next word in a uniform distribution:"
   ]
  },
  {
   "cell_type": "code",
   "execution_count": 25,
   "metadata": {},
   "outputs": [
    {
     "data": {
      "text/plain": [
       "9998.999999999998"
      ]
     },
     "execution_count": 25,
     "metadata": {},
     "output_type": "execute_result"
    }
   ],
   "source": [
    "get_perplexity1(validation_data['words'],models1,n=0)"
   ]
  },
  {
   "cell_type": "markdown",
   "metadata": {},
   "source": [
    "The perplexity is $|V|$ as expected. (Where $|V|$ is the size of our vocabulary)\n",
    "\n",
    "Also we can observe that the second model has a better perplexity than the first, for all values of $\\gamma$ and $n$. That is - if we treat every sentence as a different unit, we'll get better results. This is probably because each word depend less on words from different sentences. For large values of $n$ the difference becomes larger, probably because many sentences doesn't contain that much tokens, but we can see that even for smaller values of $n$ our second model performs better. \n",
    "The fact that the perplexity grows with n is suprising, as remembering more history should enhance our model's performance. I believe that this is due to the fact that the n-gram model can't generalize. For larger values of $n$ most n-grams that we encountered in the training data won't be seen in the validation data.\n"
   ]
  },
  {
   "cell_type": "markdown",
   "metadata": {},
   "source": [
    "### 1.3.2 Text generation\n",
    "A better way perhaps to test our model, is to let it generate sentences.\n",
    "We'll create a method for a generation of sentence according to our language model, and we'll use it to generate a fixed amount of sentences. A generation of each sentence will end when the sentence end symbol will be generated. (We'll also set a maximum sentence length to avoid infinite loops if those should occur).\n",
    "\n",
    "Let's start with the models which gave us the best results. That is, $n=2$, and $\\gamma=0.1$, and see what sentences they generate. We'll generate each time the most probable the word to appear after the given n-gram."
   ]
  },
  {
   "cell_type": "code",
   "execution_count": 26,
   "metadata": {},
   "outputs": [],
   "source": [
    "SENTENCES_NUM = 5\n",
    "MAX_WORD_IN_SENTENCE = 20\n",
    "models = models2\n",
    "\n",
    "def generate_word_max(ngram: Tuple[str], n: int, gamma: float) -> str:\n",
    "    model_ind = n-FIRST_N\n",
    "    model = models[model_ind]\n",
    "    if(len(ngram)>model_ind+FIRST_N):\n",
    "        ngram = ngram[-n:]\n",
    "    if(len(ngram)<model_ind+FIRST_N):\n",
    "        ngram = ['*']*(n-len(ngram))+ngram\n",
    "    app_n_gram = ngram\n",
    "    app_model = model\n",
    "    curr_ind = model_ind\n",
    "    while len(app_model[tuple(app_n_gram)])==0: #n-gram doesn't appear in our training data\n",
    "        curr_ind = curr_ind - 1\n",
    "        app_model = models[curr_ind]\n",
    "        app_n_gram = app_n_gram[1:]\n",
    "    p = LidstoneProbDist(app_model[tuple(app_n_gram)], gamma, bins=vocab_len)\n",
    "    return p.max(), ngram\n",
    "\n",
    "def generate_sentence(model: Callable[[Tuple[str]],str], seed: str) -> str:\n",
    "    ans = \"\"\n",
    "    curr_n_gram = seed.split()\n",
    "    while(len(ans.split())<MAX_WORD_IN_SENTENCE):\n",
    "        next_word, curr_n_gram = model(curr_n_gram)\n",
    "        if next_word == '~':\n",
    "            return ans\n",
    "        curr_n_gram = curr_n_gram[1:] + [next_word]\n",
    "        ans = ans + \" \" + next_word\n",
    "    return ans\n",
    "\n",
    "def generate(model: Dict, seed: str) -> str:\n",
    "    ans = seed\n",
    "    for i in range(SENTENCES_NUM):\n",
    "        sent = generate_sentence(model, seed) + '\\n'\n",
    "        seed = ''\n",
    "        ans = ans + sent\n",
    "    return ans\n"
   ]
  },
  {
   "cell_type": "code",
   "execution_count": 27,
   "metadata": {},
   "outputs": [
    {
     "name": "stdout",
     "output_type": "stream",
     "text": [
      "why should i be part of the <unk> of the <unk> of the <unk> of the <unk> of the <unk> of\n",
      " the <unk> of the <unk> of the <unk> of the <unk> of the <unk> of the <unk> of the <unk>\n",
      " the <unk> of the <unk> of the <unk> of the <unk> of the <unk> of the <unk> of the <unk>\n",
      " the <unk> of the <unk> of the <unk> of the <unk> of the <unk> of the <unk> of the <unk>\n",
      " the <unk> of the <unk> of the <unk> of the <unk> of the <unk> of the <unk> of the <unk>\n",
      "\n"
     ]
    }
   ],
   "source": [
    "print(generate(lambda a: generate_word_max(a, 2, 0.1), \"why\"))"
   ]
  },
  {
   "cell_type": "markdown",
   "metadata": {},
   "source": [
    "That's not very good, we generated the same sentence over and over again. Let's try now to pick not the most probable word, but rather to pick each word in the probability in which it occurs in the training data after the given n-gram."
   ]
  },
  {
   "cell_type": "code",
   "execution_count": 32,
   "metadata": {},
   "outputs": [],
   "source": [
    "def generate_word_prob(ngram: Tuple[str], n: int, gamma: float) -> str:\n",
    "    model_ind = n-FIRST_N\n",
    "    model = models[model_ind]\n",
    "    if(len(ngram)>model_ind+FIRST_N):\n",
    "        ngram = ngram[-n:]\n",
    "    if(len(ngram)<model_ind+FIRST_N):\n",
    "        ngram = ['*']*(n-len(ngram))+ngram\n",
    "    app_n_gram = ngram\n",
    "    app_model = model\n",
    "    curr_ind = model_ind\n",
    "    while len(app_model[tuple(app_n_gram)])==0: #n-gram doesn't appear in our training data\n",
    "        curr_ind = curr_ind - 1\n",
    "        app_model = models[curr_ind]\n",
    "        app_n_gram = app_n_gram[1:]\n",
    "    p = LidstoneProbDist(app_model[tuple(app_n_gram)], gamma, bins=vocab_len)\n",
    "    return p.generate(), ngram\n"
   ]
  },
  {
   "cell_type": "markdown",
   "metadata": {},
   "source": [
    "Let's start like before with $n=2$ and $\\gamma=0.1$ , and see what results we are getting."
   ]
  },
  {
   "cell_type": "code",
   "execution_count": 33,
   "metadata": {},
   "outputs": [
    {
     "name": "stdout",
     "output_type": "stream",
     "text": [
      "why was <unk> his local congressman and former u.s. intelligence mr. noriega but merely sought to turn over foreign documents could\n",
      " a tvs spokesman said yesterday a recent white house got the better business bureau in late june\n",
      " in early march\n",
      " they believe technology is so pessimistic\n",
      " in his chair mr. straszheim is <unk> because its card business\n",
      "\n"
     ]
    }
   ],
   "source": [
    "print(generate(lambda a: generate_word_prob(a, 2, 0.1), \"why\"))"
   ]
  },
  {
   "cell_type": "markdown",
   "metadata": {},
   "source": [
    "We don't receive the same sentence over and over again, but the sentences themselves don't make much sense. Let's try a higher value of $n=5$."
   ]
  },
  {
   "cell_type": "code",
   "execution_count": 34,
   "metadata": {},
   "outputs": [
    {
     "name": "stdout",
     "output_type": "stream",
     "text": [
      "the new argument over the notification guideline however could sour any atmosphere of cooperation that existed\n",
      " senate <unk> final arguments in impeachment trial of federal judge\n",
      " whitbread 's wine spirits and soft-drink operations had trading profit of # N million a gain it attributes to higher\n",
      " personal spending which fueled the economy 's growth in the third quarter slowed to about N N from the second\n",
      " this test was the first to predict <unk> whether an individual could expect to develop cancer\n",
      "\n"
     ]
    }
   ],
   "source": [
    "print(generate(lambda a: generate_word_prob(a, 5, 0.1), \"the new\"))"
   ]
  },
  {
   "cell_type": "markdown",
   "metadata": {},
   "source": [
    "That's better. Let's try a higher value of $n=7$, and see what results we are getting."
   ]
  },
  {
   "cell_type": "code",
   "execution_count": 35,
   "metadata": {},
   "outputs": [
    {
     "name": "stdout",
     "output_type": "stream",
     "text": [
      "the new services allow u.s. trust to cater to the new wealth mr. schwarz says\n",
      " but whitbread has been squeezed by giant rivals amid widespread consolidation in the industry\n",
      " market participants hope today 's gnp report will offer more substantial evidence on u.s. economic growth although analysts are quick\n",
      " he discovered a <unk> <unk> in the charges made to various departments for computer time and <unk> it to a\n",
      " for these workers at the bottom of the mine 's pay scale this is usually enough to overcome the temptation\n",
      "\n"
     ]
    }
   ],
   "source": [
    "print(generate(lambda a: generate_word_prob(a, 7, 0.1), \"the new\"))"
   ]
  },
  {
   "cell_type": "markdown",
   "metadata": {},
   "source": [
    "The sentences themselves make sense, but there isn't any connection between each individual sentence, nor we expect a connection to be, because we are using the second model which handles each sentence as a different unit. Let's try generating a text with the first model. This time will limit the number of words to 100, instead of putting a limit on the number of sentences.\n",
    "Let's first update our generate model, to generate text, instead of generating a sequence of sentences."
   ]
  },
  {
   "cell_type": "code",
   "execution_count": 36,
   "metadata": {},
   "outputs": [],
   "source": [
    "OUTPUT_LEN = 100\n",
    "\n",
    "def generate(model: Callable[[Tuple[str]],Tuple[str, Tuple[str]]], seed: str) -> str:\n",
    "    ans = seed\n",
    "    curr_n_gram = seed.split()\n",
    "    for i in range(OUTPUT_LEN):\n",
    "        next_word, curr_n_gram = model(curr_n_gram)\n",
    "        curr_n_gram = curr_n_gram[1:] + [next_word]\n",
    "        ans = ans + \" \" + next_word\n",
    "    return ans"
   ]
  },
  {
   "cell_type": "markdown",
   "metadata": {},
   "source": [
    "Also, we need to use our first set of models."
   ]
  },
  {
   "cell_type": "code",
   "execution_count": 530,
   "metadata": {},
   "outputs": [],
   "source": [
    "models = models1"
   ]
  },
  {
   "cell_type": "markdown",
   "metadata": {},
   "source": [
    "Let's try to generate text now, using our new generate method."
   ]
  },
  {
   "cell_type": "code",
   "execution_count": 531,
   "metadata": {},
   "outputs": [
    {
     "name": "stdout",
     "output_type": "stream",
     "text": [
      "we believe we have to <unk> the <unk> of the <unk> <unk> <unk> <unk> <unk> <unk> <unk> <unk> <unk> <unk> <unk> <unk> <unk> <unk> <unk> <unk> <unk> <unk> <unk> <unk> <unk> <unk> <unk> <unk> <unk> <unk> <unk> <unk> <unk> <unk> <unk> <unk> <unk> <unk> <unk> <unk> <unk> <unk> <unk> <unk> <unk> <unk> <unk> <unk> <unk> <unk> <unk> <unk> <unk> <unk> <unk> <unk> <unk> <unk> <unk> <unk> <unk> <unk> <unk> <unk> <unk> <unk> <unk> <unk> <unk> <unk> <unk> <unk> <unk> <unk> <unk> <unk> <unk> <unk> <unk> <unk> <unk> <unk> <unk> <unk> <unk> <unk> <unk> <unk> <unk> <unk> <unk> <unk> <unk> <unk> <unk> <unk> <unk>\n"
     ]
    }
   ],
   "source": [
    "print(generate(lambda a: generate_word_max(a, 3, 0.1), \"we believe we\"))"
   ]
  },
  {
   "cell_type": "markdown",
   "metadata": {},
   "source": [
    "Again, since we're picking the most probable word, we're stuck in a loop. Let's try a higher value of $n$."
   ]
  },
  {
   "cell_type": "code",
   "execution_count": 301,
   "metadata": {},
   "outputs": [
    {
     "name": "stdout",
     "output_type": "stream",
     "text": [
      "we believe we have to take a shot at getting as much done as we can through the court through justice and through state and federal regulatory agencies i see congress as a last resort healthy thrifts such as columbia or the junk-bond market itself should have been so lucky the reality of life in modern america is that if you want to <unk> something that works let it fall into the hands of congress exxon corp. said it will move its headquarters from manhattan to dallas most of the N employees at the oil company 's <unk> headquarters building including much of\n"
     ]
    }
   ],
   "source": [
    "print(generate(lambda a: generate_word_max(a, 5, 0.1), \"we believe we\"))"
   ]
  },
  {
   "cell_type": "markdown",
   "metadata": {},
   "source": [
    "That's actually quite good. It seems that for text generation it's better to handle the entire text as one unit, instead of splitting it to sentences. Let's try a higher value of $n$. And a different seed."
   ]
  },
  {
   "cell_type": "code",
   "execution_count": 305,
   "metadata": {},
   "outputs": [
    {
     "name": "stdout",
     "output_type": "stream",
     "text": [
      "the new york stock exchange composite index fell N to N most of last week 's surge in the industrial average came on monday when the average rose N points as market players snapped up blue-chip issues and <unk> the broad market that contrast was reflected in the smaller weekly percentage gains recorded by the broader averages the s&p N rose N N the dow jones equity market index added N to N and the new york stock exchange composite index fell N to N most of last week 's surge in the industrial average came on monday when the average rose N\n"
     ]
    }
   ],
   "source": [
    "print(generate(lambda a: generate_word_max(a, 7, 0.1), \"the new york\"))"
   ]
  },
  {
   "cell_type": "markdown",
   "metadata": {},
   "source": [
    "Let's introduce now a new parameter to our model, called the temperature. We will mark the temperature by $\\tau$.  The temperature affects the model by being a parameter to a \"freezing function\", which will alter our probability model. The freezing function is defined as follows: \n",
    "$f_{\\tau}(p_{i})=\\frac{p_{i}^{\\frac{1}{\\tau}}}{\\sum_{j} p_{j}^{\\frac{1}{\\tau}}}$\n",
    "One can observe that for $\\tau=1$, the freezing function is the identity function. As we lower the value of $\\tau$, the freezing function makes the likely outcomes more likely, and less likely outcomes less likely. It makes our model more conservetive, and more likely to pick a next word with very high probability. For $\\tau\\rightarrow 0$, we receive that our freezing function is simply the argmax function, and will pick always the most likely outcome.\n",
    "\n",
    "We'll define our TemperatureProb class, which will inherit from ProbDistI. This distribution will receive the temperature parameter, and the original distribution in it's constructor, and will calculate the value $\\sum_{j} p_{j}^{\\frac{1}{\\tau}}$ during construction. Then the prob method, will calculate the value $p_{i}^{\\frac{1}{\\tau}}$, and will divide it by the pre-calculated value."
   ]
  },
  {
   "cell_type": "code",
   "execution_count": 306,
   "metadata": {},
   "outputs": [],
   "source": [
    "class TemperatureProb(ProbDistI):\n",
    "    SUM_TO_ONE = False\n",
    "    def __init__(self, origDist, temperature):\n",
    "        self._origDist = origDist\n",
    "        self._temperature = float(temperature)\n",
    "        self._deviator = 0\n",
    "        for sample in self._origDist.samples():\n",
    "            p = self._origDist.prob(sample)**(1/self._temperature)\n",
    "            self._deviator = self._deviator + p\n",
    "\n",
    "\n",
    "    def freqdist(self):\n",
    "        \"\"\"\n",
    "        Return the frequency distribution that this probability\n",
    "        distribution is based on.\n",
    "\n",
    "        :rtype: FreqDist\n",
    "        \"\"\"\n",
    "        return self._origDist\n",
    "\n",
    "\n",
    "\n",
    "    def prob(self, sample):\n",
    "        c = (self._origDist.prob(sample)**(1/self._temperature))/(self._deviator)\n",
    "        return c\n",
    "\n",
    "\n",
    "\n",
    "    def max(self):\n",
    "        # The maximum remains the same as in the original distribution\n",
    "        return self._origDist.max()\n",
    "\n",
    "\n",
    "\n",
    "    def samples(self):\n",
    "        return self._origDist.samples()\n",
    "\n",
    "\n",
    "    def __repr__(self):\n",
    "        \"\"\"\n",
    "        Return a string representation of this ``ProbDist``.\n",
    "\n",
    "        :rtype: str\n",
    "        \"\"\"\n",
    "        return '<TempeatureProbability temp={0}>'.format(self._temperature)"
   ]
  },
  {
   "cell_type": "markdown",
   "metadata": {},
   "source": [
    "The code works the same like the code of Sameer Sing in generator.py. Only where we use the original distribution methods of generation and only alter the probability, Sameer implemented the generate method from scratch. He choose to work with log probabilities (A smarter choice to avoid floating points problems I suppose), he calculates the new probabilities for all the words using the freezing function. Since $log(a^{b})=b\\cdot log(a)$, he can calculate the numerator by $\\frac{1}{\\tau}\\cdot log(p_{i})$. He also calculates the sum of all the probabilities using this method and the method logaddexp2 of numpy, which returns for two given numbers $a$ and $b$ the value $log_{2}(2^{a}+2^{b})$.\n",
    "\n",
    "We'll also create a new generate_word_temp function, which will be used by our generate method to generate the next word using our new distribution."
   ]
  },
  {
   "cell_type": "code",
   "execution_count": 310,
   "metadata": {},
   "outputs": [],
   "source": [
    "def generate_word_temp(ngram: Tuple[str], n: int, gamma: float, temp: float) -> str:\n",
    "    model_ind = n-FIRST_N\n",
    "    model = models[model_ind]\n",
    "    if(len(ngram)>model_ind+FIRST_N):\n",
    "        ngram = ngram[-n:]\n",
    "    if(len(ngram)<model_ind+FIRST_N):\n",
    "        ngram = ['*']*(n-len(ngram))+ngram\n",
    "    app_n_gram = ngram\n",
    "    app_model = model\n",
    "    curr_ind = model_ind\n",
    "    while len(app_model[tuple(app_n_gram)])==0: #n-gram doesn't appear in our training data\n",
    "        curr_ind = curr_ind - 1\n",
    "        app_model = models[curr_ind]\n",
    "        app_n_gram = app_n_gram[1:]\n",
    "    p = LidstoneProbDist(app_model[tuple(app_n_gram)], gamma, bins=vocab_len)\n",
    "    p1 = TemperatureProb(p, temp)\n",
    "    return p1.generate(), ngram"
   ]
  },
  {
   "cell_type": "markdown",
   "metadata": {},
   "source": [
    "For sanity, let's pick a value $\\tau\\rightarrow 0$, and see if we get the same output we did when picking always the most likely word."
   ]
  },
  {
   "cell_type": "code",
   "execution_count": 477,
   "metadata": {},
   "outputs": [
    {
     "name": "stdout",
     "output_type": "stream",
     "text": [
      "we believe we have to <unk> the <unk> of the <unk> <unk> <unk> <unk> <unk> <unk> <unk> <unk> <unk> <unk> <unk> <unk> <unk> <unk> <unk> <unk> <unk> <unk> <unk> <unk> <unk> <unk> <unk> <unk> <unk> <unk> <unk> <unk> <unk> <unk> <unk> <unk> <unk> <unk> <unk> <unk> <unk> <unk> <unk> <unk> <unk> <unk> <unk> <unk> <unk> <unk> <unk> <unk> <unk> <unk> <unk> <unk> <unk> <unk> <unk> <unk> <unk> <unk> <unk> <unk> <unk> <unk> <unk> <unk> <unk> <unk> <unk> <unk> <unk> <unk> <unk> <unk> <unk> <unk> <unk> <unk> <unk> <unk> <unk> <unk> <unk> <unk> <unk> <unk> <unk> <unk> <unk> <unk> <unk> <unk> <unk> <unk> <unk>\n"
     ]
    }
   ],
   "source": [
    "print(generate(lambda a: generate_word_temp(a, n=3, gamma=0.1, temp=0.01), \"we believe we\"))"
   ]
  },
  {
   "cell_type": "markdown",
   "metadata": {},
   "source": [
    "Now let's try to increase our temperature and make our model less conservative. Let's try $\\tau=0.5$."
   ]
  },
  {
   "cell_type": "code",
   "execution_count": 478,
   "metadata": {},
   "outputs": [
    {
     "name": "stdout",
     "output_type": "stream",
     "text": [
      "we believe we have to clear up order backlogs in france more than half the level traditionally considered desirable mr. <unk> who is a convicted <unk> through a vast retail network in recent years and in enabling the company 's <unk> group u.s. trust a <unk> institution that is one of the most powerful <unk> in the <unk> and <unk> the <unk> and <unk> <unk> the <unk> of <unk> and <unk> <unk> the lucky ones <unk> out at the same time he began building up the <unk> themselves were <unk> low <unk> <unk> consumers who wanted big houses mercedes cars beautiful women expensive\n"
     ]
    }
   ],
   "source": [
    "print(generate(lambda a: generate_word_temp(a, n=3, gamma=0.1, temp=0.5), \"we believe we\"))"
   ]
  },
  {
   "cell_type": "markdown",
   "metadata": {},
   "source": [
    "### 1.4 Character language model\n",
    "In this part we will work on a character level language model.\n",
    "\n",
    "#### 1.4.1. Summaries of the two articles\n",
    "\n",
    "####  The Unreasonable Effectiveness of Recurrent Neural Networks\n",
    "In this article, Andrej Karpathy introdouces us to the model of RNN(Recurrent Neural Networks). In this model, the neural network accepts a sequence of vectors as an input, rather than a single vector, and also outputs a sequence of vectors. The RNN works by accepting a single vector every time, but the output is influenced not only by that vector, but also by the entire history of vectors that were inputted prior to that vector. In his article Andrej trained his model on a few examples. Some basic examples like Shakespear texts, on which we saw that a basic n-gram model could perform nicely. But the more suprising examples were how the RNN learned advanced syntax in his examples. For example, the RNN was trained on an algebra book written in latex format, and could create his own latex book, which almost compiled. He was also trained on the linux' kernel code, in which the RNN learned how to properly indent his code, and also learned how to open and close his brackets properly. (Which would require a long history to remember in an n-gram model). Another suprising finding was seeing how some neurons in the RNN were adjusted to learning specific tasks. For example, a specific neuron tuned itself to keeping track when inside and outside of comments in c code, or another neuron tuned itself to keep track when in if statements. Those kind of abilities couldn't be achieved with a normal n-gram model.\n",
    "\n",
    "#### The unreasonable effectiveness of Character-level Language Models (and why RNNs are still cool)\n",
    "In this article, Yoav Goldberg shows us how a simple n-gram based model, which picks the next character based on the maximum likelihood, could also achieve quite suprising results. He shows that by training the model on Shakespeare texts, the model was able to generate some quite believable texts, which were written in a syntactically correct english. These results were achieved using quite a small value of n, between 7 and 10. However, Yoav's model wasn't able to learn the syntax of the linux' kernel code like Andrej model did. This is even for larger values of n. I believe that suprising results of Yoav's model on Shakespeare's texts, were because the syntax of english is quite easy to learn in an n-gram model. There are no really long range dependencies, so with remembering a short history of 7-10 letters you are able to predict quite well the next character. However, for a programming language, in which there are much more long range dependencies in the syntax, an n-gram model isn't good enough.\n",
    "\n",
    "#### 1.4.1.2 Dataset reader\n",
    "We'll now create a method for extracting the recipes data. The method will read all the files in the cooking directory (which contains the recipes). And divide the text into a list of recipes. (Recipes are divided in the text by a special delimiter)"
   ]
  },
  {
   "cell_type": "code",
   "execution_count": 8,
   "metadata": {},
   "outputs": [],
   "source": [
    "import os\n",
    "\n",
    "DIR_NAME = \"cooking\"\n",
    "RECIPE_START = \"MMMMM-----\"\n",
    "RECIPE_END = \"MMMMM\"\n",
    "\n",
    "def recipe_reader() -> List[str]:\n",
    "    files_list = os.listdir(DIR_NAME)\n",
    "    recipes_list = []\n",
    "    curr_recipe = ''\n",
    "    for file in files_list:\n",
    "        path = DIR_NAME + '/' + file\n",
    "        text = open(path, encoding='utf-8').read().split('\\n')\n",
    "        for line in text:\n",
    "            if RECIPE_START in line:\n",
    "                continue\n",
    "            if RECIPE_END in line:\n",
    "                recipes_list.append(curr_recipe)\n",
    "                curr_recipe = ''\n",
    "                continue\n",
    "            curr_recipe = curr_recipe.lower() + line + '\\n'\n",
    "    return recipes_list\n",
    "\n",
    "recipes_list = recipe_reader()\n",
    "recipes_tokenized = [removePunctuations(word_tokenize(recipe)) for recipe in recipes_list]"
   ]
  },
  {
   "cell_type": "markdown",
   "metadata": {},
   "source": [
    "#### 1.4.1.3 Basic statistics\n",
    "Let's gather some basic statistics about our data"
   ]
  },
  {
   "cell_type": "code",
   "execution_count": 9,
   "metadata": {},
   "outputs": [],
   "source": [
    "lengthsCounter = Counter([len(recipe) for recipe in recipes_list])\n",
    "numOfWordsCounter = Counter([len(recipe) for recipe in recipes_tokenized])\n",
    "wordsCounter = Counter()\n",
    "wordsLengthCounter = Counter()\n",
    "charCounter = Counter()\n",
    "for recipe in recipes_tokenized:\n",
    "    for word in recipe:\n",
    "        wordsCounter[word] = wordsCounter[word] + 1\n",
    "        wordsLengthCounter[len(word)] = wordsLengthCounter[len(word)]+1\n",
    "for recipe in recipes_list:\n",
    "    for char in recipe:\n",
    "        charCounter[char] = charCounter[char] + 1"
   ]
  },
  {
   "cell_type": "markdown",
   "metadata": {},
   "source": [
    "First, the number of recipes:"
   ]
  },
  {
   "cell_type": "code",
   "execution_count": 10,
   "metadata": {},
   "outputs": [
    {
     "data": {
      "text/plain": [
       "32965"
      ]
     },
     "execution_count": 10,
     "metadata": {},
     "output_type": "execute_result"
    }
   ],
   "source": [
    "len(recipes_list)"
   ]
  },
  {
   "cell_type": "markdown",
   "metadata": {},
   "source": [
    "The total number of characters:"
   ]
  },
  {
   "cell_type": "code",
   "execution_count": 11,
   "metadata": {},
   "outputs": [
    {
     "data": {
      "text/plain": [
       "35960542"
      ]
     },
     "execution_count": 11,
     "metadata": {},
     "output_type": "execute_result"
    }
   ],
   "source": [
    "sum([len(recipe) for recipe in recipes_list])"
   ]
  },
  {
   "cell_type": "markdown",
   "metadata": {},
   "source": [
    "The total number of tokens in our recipes:"
   ]
  },
  {
   "cell_type": "code",
   "execution_count": 12,
   "metadata": {},
   "outputs": [
    {
     "data": {
      "text/plain": [
       "5733825"
      ]
     },
     "execution_count": 12,
     "metadata": {},
     "output_type": "execute_result"
    }
   ],
   "source": [
    "sum([len(recipe) for recipe in recipes_tokenized])"
   ]
  },
  {
   "cell_type": "markdown",
   "metadata": {},
   "source": [
    "The size of our vocabulary:"
   ]
  },
  {
   "cell_type": "code",
   "execution_count": 13,
   "metadata": {},
   "outputs": [
    {
     "data": {
      "text/plain": [
       "70452"
      ]
     },
     "execution_count": 13,
     "metadata": {},
     "output_type": "execute_result"
    }
   ],
   "source": [
    "len(wordsCounter.most_common())"
   ]
  },
  {
   "cell_type": "markdown",
   "metadata": {},
   "source": [
    "The number of distinct characters in our data:"
   ]
  },
  {
   "cell_type": "code",
   "execution_count": 14,
   "metadata": {},
   "outputs": [
    {
     "data": {
      "text/plain": [
       "132"
      ]
     },
     "execution_count": 14,
     "metadata": {},
     "output_type": "execute_result"
    }
   ],
   "source": [
    "CHAR_NUM = len(charCounter.most_common())\n",
    "CHAR_NUM"
   ]
  },
  {
   "cell_type": "markdown",
   "metadata": {},
   "source": [
    "Some histograms detailing the distribution of number of characters in each recipe, number of words in each recipe, and word length."
   ]
  },
  {
   "cell_type": "code",
   "execution_count": 15,
   "metadata": {},
   "outputs": [
    {
     "data": {
      "text/plain": [
       "<BarContainer object of 2939 artists>"
      ]
     },
     "execution_count": 15,
     "metadata": {},
     "output_type": "execute_result"
    },
    {
     "data": {
      "image/png": "[encoded data removed]",
      "text/plain": [
       "<Figure size 432x288 with 1 Axes>"
      ]
     },
     "metadata": {
      "needs_background": "light"
     },
     "output_type": "display_data"
    }
   ],
   "source": [
    "plt.xlabel(\"Number of characters in recipe\")\n",
    "plt.bar([tup[0] for tup in lengthsCounter.most_common()], [tup[1] for tup in lengthsCounter.most_common()])"
   ]
  },
  {
   "cell_type": "code",
   "execution_count": 16,
   "metadata": {},
   "outputs": [
    {
     "data": {
      "text/plain": [
       "<BarContainer object of 713 artists>"
      ]
     },
     "execution_count": 16,
     "metadata": {},
     "output_type": "execute_result"
    },
    {
     "data": {
      "image/png": "[encoded data removed]",
      "text/plain": [
       "<Figure size 432x288 with 1 Axes>"
      ]
     },
     "metadata": {
      "needs_background": "light"
     },
     "output_type": "display_data"
    }
   ],
   "source": [
    "plt.xlabel(\"Number of words in recipe\")\n",
    "plt.bar([tup[0] for tup in numOfWordsCounter.most_common()], [tup[1] for tup in numOfWordsCounter.most_common()])"
   ]
  },
  {
   "cell_type": "code",
   "execution_count": 17,
   "metadata": {},
   "outputs": [
    {
     "data": {
      "text/plain": [
       "<BarContainer object of 53 artists>"
      ]
     },
     "execution_count": 17,
     "metadata": {},
     "output_type": "execute_result"
    },
    {
     "data": {
      "image/png": "[encoded data removed]",
      "text/plain": [
       "<Figure size 432x288 with 1 Axes>"
      ]
     },
     "metadata": {
      "needs_background": "light"
     },
     "output_type": "display_data"
    }
   ],
   "source": [
    "plt.xlabel(\"Length of word\")\n",
    "plt.bar([tup[0] for tup in wordsLengthCounter.most_common()], [tup[1] for tup in wordsLengthCounter.most_common()])"
   ]
  },
  {
   "cell_type": "markdown",
   "metadata": {},
   "source": [
    "#### 1.4.1.4 Splitting the data\n",
    "We'll now split the data into a training data which will consist 80% of the recipes, and test and dev data which will consist of 10% of the recipes each."
   ]
  },
  {
   "cell_type": "code",
   "execution_count": 18,
   "metadata": {},
   "outputs": [],
   "source": [
    "train_recipes = recipes_list[:(int)(0.8*len(recipes_list))]\n",
    "test_recipes = recipes_list[(int)(0.8*len(recipes_list)):(int)(0.9*len(recipes_list))]\n",
    "dev_recipes = recipes_list[(int)(0.9*len(recipes_list)):]"
   ]
  },
  {
   "cell_type": "markdown",
   "metadata": {},
   "source": [
    "We'll train our model on the training data, with the same value of $n$ that were used in Yoav's article."
   ]
  },
  {
   "cell_type": "markdown",
   "metadata": {},
   "source": [
    "#### 1.4.1.5 Training the model\n",
    "We'll train our model on different values of $n$, and measure the perplexity of the model for each.\n",
    "\n",
    "Like in the word level model, we'll need smoothing for measuring perplexity, we'll use again Lidstone smoothing, with a small value of $\\gamma=0.1$."
   ]
  },
  {
   "cell_type": "code",
   "execution_count": 19,
   "metadata": {},
   "outputs": [],
   "source": [
    "GAMMA = 0.1\n",
    "FINAL_CHAR = '~'\n",
    "def train_char_lm(dataset: str, prob_map: Dict, n: int = 4) -> None:\n",
    "    dataset = '*'*n + dataset + FINAL_CHAR*n\n",
    "    for i in range(n, len(dataset)):\n",
    "        char, ngram = dataset[i], tuple(dataset[i-n:i])\n",
    "        prob_map[ngram][char] = prob_map[ngram][char]+1\n",
    "\n",
    "def get_prob_map(order: int) -> Dict:\n",
    "    freq_dist = defaultdict(FreqDist)\n",
    "    for recipe in train_recipes:\n",
    "        train_char_lm(recipe, freq_dist, order)\n",
    "    prob_map = defaultdict(LidstoneProbDist)\n",
    "    for key in freq_dist:\n",
    "        prob_map[key] = LidstoneProbDist(freq_dist[key], GAMMA, bins=CHAR_NUM)\n",
    "    return prob_map"
   ]
  },
  {
   "cell_type": "markdown",
   "metadata": {},
   "source": [
    "Let's create a method for measuring perplexity and entropy"
   ]
  },
  {
   "cell_type": "code",
   "execution_count": 20,
   "metadata": {},
   "outputs": [],
   "source": [
    "def get_entropy(dataset: List[str], prob_func: Dict, n: int=2) -> float:\n",
    "    ans = 0\n",
    "    divisor = 0\n",
    "    for recipe in dataset:\n",
    "        recipe = '*'*n + recipe + '~'*n\n",
    "        for i in range(n, len(recipe)):\n",
    "            divisor = divisor + 1\n",
    "            char, ngram = recipe[i], tuple(recipe[i-n:i])\n",
    "            if ngram not in prob_func:\n",
    "                p = LidstoneProbDist(FreqDist(), GAMMA, bins=CHAR_NUM)\n",
    "            else:\n",
    "                p = prob_func[ngram]\n",
    "            ans = ans + log(p.prob(char), 2)\n",
    "    return -ans/(divisor)\n",
    "\n",
    "def get_perplexity(dataset: List[str], prob_func: Dict, n: int=FIRST_N) -> float:\n",
    "    return 2**get_entropy(dataset, prob_func, n)"
   ]
  },
  {
   "cell_type": "markdown",
   "metadata": {},
   "source": [
    "Let's measure the perplexity for a few values of $n$. "
   ]
  },
  {
   "cell_type": "code",
   "execution_count": 31,
   "metadata": {},
   "outputs": [],
   "source": [
    "orders = [2, 5, 7, 10, 15]\n",
    "\n",
    "perplexities_gen = (get_perplexity(test_recipes, get_prob_map(order), order) for order in orders)\n",
    "perplexities = []\n",
    "for p in perplexities_gen:\n",
    "    perplexities.append(p)"
   ]
  },
  {
   "cell_type": "markdown",
   "metadata": {},
   "source": [
    "Let's measure the perplexity of the model using the test data"
   ]
  },
  {
   "cell_type": "code",
   "execution_count": 32,
   "metadata": {},
   "outputs": [
    {
     "data": {
      "text/plain": [
       "[<matplotlib.lines.Line2D at 0x1f7cf807860>]"
      ]
     },
     "execution_count": 32,
     "metadata": {},
     "output_type": "execute_result"
    },
    {
     "data": {
      "image/png": "[encoded data removed]",
      "text/plain": [
       "<Figure size 432x288 with 1 Axes>"
      ]
     },
     "metadata": {
      "needs_background": "light"
     },
     "output_type": "display_data"
    }
   ],
   "source": [
    "plt.xlabel(\"Order\")\n",
    "plt.ylabel(\"Perplexity\")\n",
    "plt.plot(orders, perplexities)"
   ]
  },
  {
   "cell_type": "markdown",
   "metadata": {},
   "source": [
    "We can see that the perplexity reaches a minimum for $n=5$, but then rises again. This is probably due to the fact that for a larger value of $n$, more unseen $n$-grams are encountered in the test data. Maybe we should try to test our model by trying to generate recipes.\n",
    "We'll set an upper bound of 10000 characters per recipe, but the generation will stop if the final char (~) will be generated."
   ]
  },
  {
   "cell_type": "code",
   "execution_count": 38,
   "metadata": {},
   "outputs": [],
   "source": [
    "def generate(model: Dict, n: int) -> str:\n",
    "    ans = \"\"\n",
    "    curr_n_gram = ['*' for c in range(n)]\n",
    "    next_char = ''\n",
    "    while True:\n",
    "        next_char = model[tuple(curr_n_gram)].generate()\n",
    "        if next_char == FINAL_CHAR:\n",
    "            break\n",
    "        curr_n_gram = curr_n_gram[1:] + [next_char]\n",
    "        ans = ans + next_char\n",
    "        if(len(ans)>10000):\n",
    "            break\n",
    "    return ans"
   ]
  },
  {
   "cell_type": "markdown",
   "metadata": {},
   "source": [
    "Let's try first for $n=2$."
   ]
  },
  {
   "cell_type": "code",
   "execution_count": 33,
   "metadata": {},
   "outputs": [],
   "source": [
    "prob_map = get_prob_map(2)"
   ]
  },
  {
   "cell_type": "code",
   "execution_count": 39,
   "metadata": {},
   "outputs": [
    {
     "name": "stdout",
     "output_type": "stream",
     "text": [
      " \n",
      "   2 colls ticincy, 1/8 of\n",
      "    ch fins, che gre\n",
      "      brue late: emi the flought reppeparm\n",
      "  \n",
      "      1/4 c   1   2 to ans whighly eam\n",
      "  by in juic\n",
      "   careginkles: 6 of sup ming sp to 1 i set; mell, whiong ads and phiser jame staspred fringrecesp maing subbs. sy\n",
      "        ch 1 sum slicke cate real, but untirstainacke caten\n",
      "  1/4 thicken cove wref foremakind surecove * \n",
      "  a let, an\n",
      "  3/4 tithend a sugarbonings, caken toser a maring well. and salmoveraigh. caken wat eggs\n",
      "         shlembintill ornsalt. on cakervintir to af buts chisinly tabluffinallorscon.\n",
      "  1 ore cablicke mil, soyce c witly 3/4 spie donamon flotte boarielourfachishen tocoth 1 cups\n",
      "  md whocoono; 2. matowdeney hallan as sty mixtut. sm skintly parven cupeake reefortion wils theachaten forinedijoy    1 lenton the ightly dinkless alohoter\n",
      "   1 ther ts thelling the eges. min and fly toppladd c & vand inutted caked flategol, ine to ad phant tonith a he gar asin., or vine\n",
      "     grotack.\n",
      "  garrickposs staboup itto 2 catervinairlighlowalles.\n",
      "   bute,\n",
      "    egright and in mixtries, ley. of wel and ser beam, ands pooking addiumbingluffil broil - (a liquid unte add an,\n",
      " cuice a 1/4 1/3 the 5 th aspreeze cas\n",
      "          \n",
      "    \n",
      " \n",
      "    1/2 chight 1 ts inions servings\n",
      "     2 tb buter. astarpours proureppershater\n",
      "       tb cholice wat;\n",
      "   gres baken, ple by week ad lour. remom adve til sys\n",
      "  pos ts\n",
      "    1 lonion und remars f. band bakes madd the ingetir 2 cheaper fer istil poods. ings one\n",
      " \n",
      " \n",
      "    drice, cass it eld: 4 c   1 et\n",
      " \n",
      "  ch\" and buddar ow (2-quish sque by stildiumuf@prince tion mars.\n",
      "  gre\n",
      "  10\n",
      "    1 ts tweetherm. back youteacat 1/2 th\n",
      " \n",
      "\n"
     ]
    }
   ],
   "source": [
    "print(generate(prob_map, 2))"
   ]
  },
  {
   "cell_type": "markdown",
   "metadata": {},
   "source": [
    "This doesn't look like english at all, although we can see that the model adds quantities to the \"recipe\", and some words actually occur in this recipe, like \"servings\". Remembering just the last two letters is not enough, let's try $n=5$"
   ]
  },
  {
   "cell_type": "code",
   "execution_count": 40,
   "metadata": {},
   "outputs": [
    {
     "name": "stdout",
     "output_type": "stream",
     "text": [
      " \n",
      " \n",
      "         1    bring constant each pie plate.\n",
      "  \n",
      "  yield: 1 servings\n",
      " \n",
      "                      -and chocolate\n",
      "     garlic in hot\n",
      "         1 ts dark soy sauces\n",
      "     1/2 inch chopped\n",
      "      5 c  honey gives and cover chicken bread and set the boiler. cut into a saucepan with seasoning. he\n",
      "  before sugar\n",
      "     4 oz cans prunes,\n",
      "  saute onions.  stiff. blanchego, sugar\n",
      "    1    eggs, 17 mg\n",
      "  cook till\n",
      "  smooth.\n",
      "  beat you will notes:\n",
      "        1 c  butter, then it is tender. simmer for fruit proportions:\n",
      "  \n",
      "  juices from\n",
      "  tender at roll out of the starch\n",
      "  squash; cook til coat.place 1 lb)\n",
      " \n",
      "      2 ts salt\n",
      "  butter. place on soup)\n",
      " categories: cake-molasses at 350 degree over and abbott\n",
      "    3 c  cointredients and vanilla extract. drain, remove paprika\n",
      " \n",
      "      4    eggs, beaten\n",
      "      dried and\n",
      "  saute, peel, cinnamon and white size pulses, ends dill weed, splinterview, june 1996 205157\n",
      "  \n"
     ]
    }
   ],
   "source": [
    "prob_map = get_prob_map(5)\n",
    "print(generate(prob_map, 5))"
   ]
  },
  {
   "cell_type": "markdown",
   "metadata": {},
   "source": [
    "With remembering only five letters, our model already writes real english words, but this still doesn't look like a recipe. Let's try $n=7$"
   ]
  },
  {
   "cell_type": "code",
   "execution_count": 43,
   "metadata": {},
   "outputs": [],
   "source": [
    "prob_map = get_prob_map(7)"
   ]
  },
  {
   "cell_type": "code",
   "execution_count": 46,
   "metadata": {},
   "outputs": [
    {
     "name": "stdout",
     "output_type": "stream",
     "text": [
      " \n",
      " \n",
      "      title: food sotres, or until\n",
      "  mixture cupcake; place dough into chocolate syrup\n",
      "    1/2 ts salt\n",
      "      yield: 375 ml cognac\n",
      "      3    granny smith]\n",
      "      title: hidden by karen mintzias\n",
      " \n",
      "\n"
     ]
    }
   ],
   "source": [
    "print(generate(prob_map, 7))"
   ]
  },
  {
   "cell_type": "markdown",
   "metadata": {},
   "source": [
    "That's not much better. Although the recipe started with \"title\", it included two titles. Also we can see an out of place closing brackets. Let's try $n=10$"
   ]
  },
  {
   "cell_type": "code",
   "execution_count": 47,
   "metadata": {},
   "outputs": [],
   "source": [
    "prob_map = get_prob_map(10)"
   ]
  },
  {
   "cell_type": "code",
   "execution_count": 51,
   "metadata": {},
   "outputs": [
    {
     "name": "stdout",
     "output_type": "stream",
     "text": [
      " \n",
      " \n",
      "      title: apricot rum cake\n",
      " categories: desserts, pies, soup/stews, ireland, even just across the topping\n",
      "    1/2 c  sugar (granulated sugar\n",
      "      1 c  bulgur (i usually do it opposite side of a food\n",
      "    1/4 ts hot pepper sauce into medium heat, add 1/2 teaspoons of the oil. process,\n",
      "  while heating the ingredients\n",
      "      4 tb vinegar, sugar,\n",
      "  half/half\n",
      "      5 ts sesame oil\n",
      " \n",
      "  *    use tablespoon of the cooked\n",
      "               ground crawfish fat; from the heat until juices run clear and thickenes too much. let me know if you want to\n",
      "  try to plan to store liqueur\n",
      "     12 oz monterey jack cheese\n",
      "           baked pastry.\n",
      " \n",
      "\n"
     ]
    }
   ],
   "source": [
    "print(generate(prob_map, 10))"
   ]
  },
  {
   "cell_type": "markdown",
   "metadata": {},
   "source": [
    "That looks a bit better. The recipe starts with a title, then there's the category to which this recipe belongs, a list of ingridients, and some instructions. We still can see here that the model opens brackets without closing them, but we already know that it's almost impossible to learn with a normal n-gram model, as the distance between the opening and closing brackets is unbounded. Let's try $n=15$ and see some more recipes generated."
   ]
  },
  {
   "cell_type": "code",
   "execution_count": 52,
   "metadata": {},
   "outputs": [],
   "source": [
    "prob_map = get_prob_map(15)"
   ]
  },
  {
   "cell_type": "code",
   "execution_count": 54,
   "metadata": {},
   "outputs": [
    {
     "name": "stdout",
     "output_type": "stream",
     "text": [
      " \n",
      " \n",
      "      title: chicken & wild rice saute\n",
      " categories: pasta, vegetarian, stews\n",
      "      yield: 6 servings\n",
      " \n",
      "      6 lb corned beef, thinly sliced\n",
      "    1/2 c  milk\n",
      " \n",
      "  cream together all items except the whipping cream\n",
      "           -of orange peel\n",
      "       -or- 2 ts soaked and coarsely chopped spinach\n",
      "     14 oz can evaporated milk, cream of coconut\n",
      "       12 oz pk semisweet chocolate; condensed milk\n",
      "     13 oz canned water chestnuts\n",
      "           -- coarsely grate chocolate\n",
      "  \n",
      "    be sure that the meat will double in volume, so make sure that\n",
      "  there is enough\n",
      "  syrup.\n",
      "  \n",
      "  high pectin fruits: strawberries,\n",
      "  etc., then with a dollop of roasted peppers, leaving stems on.  cut small slice off back of each egg half so egg sits flat. place\n",
      "  eggs on ham for eyes. lay pickle slices on ham for mouth. cut pimento\n",
      "  in thin slices. using 1 tablespoonful\n",
      "  of jam in the center. immediately use\n",
      "  mixer at medium-high speed, using a whisk, combine the\n",
      "  cranberries begin to release their\n",
      "  juices. sprinkle with\n",
      "  cheese, and pop it under the broiler.\n",
      " \n",
      "\n"
     ]
    }
   ],
   "source": [
    "print(generate(prob_map, 15))"
   ]
  },
  {
   "cell_type": "markdown",
   "metadata": {},
   "source": [
    "The recipe starts well enough, but very soon we see that although individual sentences make sense, the recipe itself doesn't. The title states that this is a recipe for chicken & wild rice saute, but that it's a vegetarian meal. Also there's no rice in the ingredients, only beef and milk. And the instructions don't make sense as well. Let's try to generate a different recipe."
   ]
  },
  {
   "cell_type": "code",
   "execution_count": 55,
   "metadata": {},
   "outputs": [
    {
     "name": "stdout",
     "output_type": "stream",
     "text": [
      " \n",
      " \n",
      "      title: garlic\n"
     ]
    }
   ],
   "source": [
    "print(generate(prob_map, 15))"
   ]
  },
  {
   "cell_type": "markdown",
   "metadata": {},
   "source": [
    "Well, I guess that you could call that a recipe. If only it included ingredients."
   ]
  },
  {
   "cell_type": "code",
   "execution_count": 58,
   "metadata": {},
   "outputs": [
    {
     "name": "stdout",
     "output_type": "stream",
     "text": [
      " \n",
      " \n",
      "      title: crawfish bread\n",
      " categories: breads, cakes, desserts, bundt\n",
      "      yield: 1 servings\n",
      " \n",
      "           -bars (1.55 oz. each)\n",
      "      2 cn ranch beans\n",
      "    1/2 c  finely chopped\n",
      "    1/2 c  carrot, chopped (i used 2, i\n",
      "           used 2 jalapenos]\n",
      "    1/4 ts cayenne or to taste\n",
      " \n",
      "  * ancho or pasilla chilies) are sweet and plentiful. and the addition of numerous toppings. diners always seem\n",
      "  to be impressed. bread is lightly toasted\n",
      "    3/4 c  finely chopped. then add the apples and invert onto dish. to\n",
      "  double recipe, make it twice. for individuals to add to the\n",
      "  skillet. add the 2 teaspoons sugar, onions, oil, the\n",
      "  salt, pepper and fresh parmesan\n",
      "      1 ts parsley -- finely chopped gingerroot\n",
      "  until combined, and they are certain to\n",
      "  want more! pat empson 05/25 09:57 am\n",
      "         food and wine bulletin board.\n",
      " \n",
      "\n"
     ]
    }
   ],
   "source": [
    "print(generate(prob_map, 15))"
   ]
  },
  {
   "cell_type": "markdown",
   "metadata": {},
   "source": [
    "There's a title to the recipe, an ingredients list, and instructions. There isn't much connection between each part, and we can see again that the model doesn't use brackets correctly. \n",
    "\n",
    "The main observation I was able to make about those generated recipes, is that an $n$-gram model can't learn long-term connections in the text. But it still suprisingly learned the general syntax of a recipe - start with a title, then an ingredients list, then instructions, it even adds sometimes the source from which the recipe was taken, like in the training data. The recipes doesn't make sense, the model just generates the next character based on the last 15 characters, so we can't expect it to know very much about cooking, or the meaning of the word it uses."
   ]
  },
  {
   "cell_type": "markdown",
   "metadata": {},
   "source": [
    "## Part 2 - Polynomial curve fitting\n",
    "\n",
    "### 2.1. Synthetic dataset generation\n",
    "\n",
    "We'll implement the function generateDataset, which given an integer $n$, a function $f$, and a value of $\\sigma$, will generate a dataset $D$ of $n$ points, such that $D=\\{(x_{i},f(x_{i})+\\varepsilon(x_{i}))|x_{i}=\\frac{i-1}{n-1},1\\leq i\\leq n\\}$ and $\\varepsilon\\sim N(0,\\sigma^2)$."
   ]
  },
  {
   "cell_type": "code",
   "execution_count": 88,
   "metadata": {},
   "outputs": [],
   "source": [
    "def generateDataset(N: int, f: Callable[[float], float], sigma: float) -> Tuple[np.array]:\n",
    "    x = np.linspace(0, 1, num=N)\n",
    "    t = [f(i) + np.random.normal(loc=0.0, scale=sigma) for i in x]\n",
    "    return x, t\n"
   ]
  },
  {
   "cell_type": "markdown",
   "metadata": {},
   "source": [
    "Let's use our fucntion to generate a dataset of 100 points. Our function will be $f(x)=sin(2\\pi x)$, and we'll use $\\sigma=0.03$."
   ]
  },
  {
   "cell_type": "code",
   "execution_count": 89,
   "metadata": {},
   "outputs": [
    {
     "data": {
      "text/plain": [
       "<matplotlib.collections.PathCollection at 0x21b71d55a90>"
      ]
     },
     "execution_count": 89,
     "metadata": {},
     "output_type": "execute_result"
    },
    {
     "data": {
      "image/png": "[encoded data removed]",
      "text/plain": [
       "<Figure size 432x288 with 1 Axes>"
      ]
     },
     "metadata": {
      "needs_background": "light"
     },
     "output_type": "display_data"
    }
   ],
   "source": [
    "x, t = generateDataset(100, lambda a: np.sin(2*np.pi*a), 0.03)\n",
    "\n",
    "plt.scatter(x, t)"
   ]
  },
  {
   "cell_type": "markdown",
   "metadata": {},
   "source": [
    "### 2.2 Polynomial curve fitting\n",
    "Given our dataset, we'll attempt to learn our function $y$. We assume that $y$ is a polynom of degree $m$. That is, $y(x)=w_{0}+w_{1}\\cdot x+w_{2}\\cdot x^{2}+...+w_{m}\\cdot x^{m}$. We'll try to estimate the vector $\\vec{w}=(w_{0},w_{1},w_{2},...,w_{m})$. We'll do that by optimizing the square error function. We'll define $E(w)=\\frac{1}{2}\\sum_{i=1}^{n}(y(x_{i})-t_{i})^2$. We'll try to minimize our error function. We'll calculate the partial derivatives for each $w_{i}$, and use them to find the minimum. We'll calculate:<br>\n",
    "$\\frac{\\partial E}{\\partial W_{i}}=0$<br>\n",
    "We can convert these equations to a matrix form in order to solve them, and we receive that the optimal value $w_{LS}$ is:<br>\n",
    "$w_{LS}=(\\Phi^{T}\\Phi)^{-1}\\Phi^{T} t$\n",
    "\n",
    "We'll implement a python method for finding the optimal value."
   ]
  },
  {
   "cell_type": "code",
   "execution_count": 40,
   "metadata": {},
   "outputs": [],
   "source": [
    "def getPhiMat(x: np.array, M: int) -> np.array:\n",
    "    return np.array([[x_i**m for x_i in x] for m in range(M+1)], dtype='float64').T\n",
    "\n",
    "def optimizeLS(x: np.array, t: np.array, M: int) -> np.array:\n",
    "    mat = getPhiMat(x, M)\n",
    "    inv = np.linalg.inv(np.dot(mat.T, mat))\n",
    "    mat = np.dot(inv, mat.T)\n",
    "    w = np.dot(mat, t)\n",
    "    return w"
   ]
  },
  {
   "cell_type": "markdown",
   "metadata": {},
   "source": [
    "Now we'll create a function that for a given value of $x$, and a vector $w$, will return the value $y(x)$, where $y(x)=w_{0}+w_{1}\\cdot x+w_{2}\\cdot x^{2}+...+w_{i}\\cdot x^{i}$."
   ]
  },
  {
   "cell_type": "code",
   "execution_count": 41,
   "metadata": {},
   "outputs": [],
   "source": [
    "def polyFunc(x: float, W: np.array) -> float:\n",
    "    return sum([w*(x**k) for k,w in enumerate(W)])"
   ]
  },
  {
   "cell_type": "markdown",
   "metadata": {},
   "source": [
    "Now, let's draw a graph with our original function $sin(2\\pi x)$, our dataset, which will contain 10 points, and also we'll draw our polynoms generated by our function for $M\\in\\{1,3,5,10\\}$, where $M$ is the degree of the polynom."
   ]
  },
  {
   "cell_type": "code",
   "execution_count": 163,
   "metadata": {},
   "outputs": [],
   "source": [
    "def plot_results(x: np.array, t: np.array, m_val: List[int], func: Callable[[float],float]) -> None:\n",
    "    plt.plot(np.linspace(0, 1, 100), np.sin(2*np.pi*np.linspace(0, 1, 100)))\n",
    "    plt.scatter(x,t, s=90, color='lightBlue')\n",
    "    for m in m_val:\n",
    "        W = optimizeLS(x,t,m)\n",
    "        y2 = [polyFunc(x_i,W) for x_i in x]\n",
    "        plt.scatter(x,y2, marker='.')\n",
    "\n",
    "    plt.legend(['$sin(2\\pi x)$','Dataset'] + ['M={0}'.format(m) for m in m_val])\n"
   ]
  },
  {
   "cell_type": "code",
   "execution_count": 164,
   "metadata": {},
   "outputs": [
    {
     "data": {
      "image/png": "[encoded data removed]",
      "text/plain": [
       "<Figure size 432x288 with 1 Axes>"
      ]
     },
     "metadata": {
      "needs_background": "light"
     },
     "output_type": "display_data"
    }
   ],
   "source": [
    "x, t = generateDataset(10, lambda a: np.sin(2*np.pi*a), 0.03)\n",
    "plot_results(x,t,[1,3,5,10],lambda a: np.sin(2*np.pi*a))"
   ]
  },
  {
   "cell_type": "markdown",
   "metadata": {},
   "source": [
    "We can see that for $M=1$ we got a linear function that didn't approximate our noisy function well, for $M=3$ we got a pretty good approximation. For $M=5$ our approximation follows very closely our noisy function, and for $M=10$ we got a pretty bad result, which I believe is a result of a floating point calculation, which got a value too low. We'll try this experiment again, this time with $M\\in\\{1,3,5,9\\}$ and with a bit more noise, so we could observe our overfitting better."
   ]
  },
  {
   "cell_type": "code",
   "execution_count": 166,
   "metadata": {},
   "outputs": [
    {
     "data": {
      "image/png": "[encoded data removed]",
      "text/plain": [
       "<Figure size 432x288 with 1 Axes>"
      ]
     },
     "metadata": {
      "needs_background": "light"
     },
     "output_type": "display_data"
    }
   ],
   "source": [
    "x, t = generateDataset(10, lambda a: np.sin(2*np.pi*a), 0.06)\n",
    "plot_results(x,t,[1,3,5,9],lambda a: np.sin(2*np.pi*a))"
   ]
  },
  {
   "cell_type": "markdown",
   "metadata": {},
   "source": [
    "We can see here that for $M=9$ our polynom follows our dataset closely, and is no longer a good approximation of the $sin(2\\pi x)$ function. That overfitting could perhaps be solved with regularization.\n",
    "\n",
    "### 2.3 Polynomial curve fitting with regularization\n",
    "\n",
    "To overcome our overfitting, we can change our error function. Now, not only we will take into account our least squares error function, but we will also introduce to the error function a penalty for the complexity of the model.\n",
    "Our new error function will be $E_{PLS}(W)=E(W)+\\lambda\\cdot E_{W}(W)$. Where $E(W)$ is our least squares error function, and $E_{W}(W)$ will be $E_{W}(W)=\\frac{1}{2}w^{T}\\cdot w$. The more complex our model will be, that is - the more entries in $w$ which will have high values, our model will be penalized more. That way, when finding the optimal model we will find not only the one with the minimal least squares, but also the one which will be the \"smoothest\".\n",
    "In matrix form, we can solve this by finding $W_{PLS}=(\\Phi^{T}\\Phi+\\lambda I)^{-1}\\Phi^{T} t$.\n",
    "\n",
    "In order to pick the best value for $\\lambda$, we will split our dataset to training, validation, and test data. We will train on our training data, and we'll try to pick the best value for $\\lambda$ using our validation data. How? We will calculate the normalized error function on the validation data, on different values of $\\lambda$, and we'll find the one that would give us the smallest normalized error.\n",
    "The normalized error is defined as: $NE_{w}(x,t)=\\frac{1}{N}\\sqrt{\\sum_{i=1}^{N}(t_{i}-y(x_{i}))^{2}}$\n",
    "\n",
    "First, let's create the function that would create our dataset for us, divided to training, validation and test. Our function will divide the interval $[0,1]$ to three sets, and would apply the function $f$ with the noise, to them."
   ]
  },
  {
   "cell_type": "code",
   "execution_count": 38,
   "metadata": {},
   "outputs": [],
   "source": [
    "def generate3Dataset(N: int, f: Callable[[float], float], sigma: float) -> Tuple[Tuple[np.array]]:\n",
    "    x = np.linspace(0, 1, num=3*N)\n",
    "    np.random.shuffle(x)\n",
    "    x_parts = [[x[i] for i in range(N*j, N*(j+1))] for j in range(3)]\n",
    "    x_parts = [sorted(part) for part in x_parts]\n",
    "    t_parts = [[f(i) + np.random.normal(loc=0.0, scale=sigma) for i in part] for part in x_parts]\n",
    "    ans = [(x_parts[i], t_parts[i]) for i in range(3)]\n",
    "    return tuple(ans)"
   ]
  },
  {
   "cell_type": "markdown",
   "metadata": {},
   "source": [
    "We need to create our function for optimizing the PLS, let's write it. It would work very similiar to the optimizeLS function, but we'll also receive a $\\lambda$ value and we'll use it to apply regularization."
   ]
  },
  {
   "cell_type": "code",
   "execution_count": 175,
   "metadata": {},
   "outputs": [],
   "source": [
    "def optimizePLS(x: np.array, t: np.array, M: int, l: float) -> np.array:\n",
    "    mat = np.array([[x_i**m for x_i in x] for m in range(M+1)], dtype='float64')\n",
    "    mat = mat.T\n",
    "    prod = np.dot(mat.T, mat)\n",
    "    prod = prod + l*np.identity(M+1)\n",
    "    i = np.linalg.inv(prod)\n",
    "    mat = np.dot(i, mat.T)\n",
    "    w = np.dot(mat, t)\n",
    "    return w"
   ]
  },
  {
   "cell_type": "markdown",
   "metadata": {},
   "source": [
    "Let's now create a function for calculating the normalized error."
   ]
  },
  {
   "cell_type": "code",
   "execution_count": 227,
   "metadata": {},
   "outputs": [],
   "source": [
    "def normErr(x: np.array, t: np.array, W: np.array) -> float:\n",
    "    N = len(x)\n",
    "    s = sum([(t[i]-polyFunc(x[i],W))**2 for i in range(N)])\n",
    "    return np.sqrt(s)/N\n"
   ]
  },
  {
   "cell_type": "markdown",
   "metadata": {},
   "source": [
    "We'll use our function for calculating the normalized error, for finding our optimal value of $\\lambda$. We'll train our model using different values of $\\lambda$, and we'll pick the one with the smallest normalized error on the validation data."
   ]
  },
  {
   "cell_type": "code",
   "execution_count": 286,
   "metadata": {},
   "outputs": [],
   "source": [
    "lambdaRange = [np.exp(logLambda) for logLambda in range(-40,-20)]\n",
    "\n",
    "def getErrList(xt: np.array, tt: np.array, xv: np.array, tv: np.array, M: int) -> float:\n",
    "    errVal = []\n",
    "    for lambdaVal in lambdaRange:\n",
    "        curr_w = optimizePLS(xt, tt, M, lambdaVal)\n",
    "        errVal.append((normErr(xv, tv, curr_w), lambdaVal))\n",
    "    return errVal\n",
    "\n",
    "def optimizePLSLambda(xt: np.array, tt: np.array, xv: np.array, tv: np.array, M: int) -> float:\n",
    "    errVal = getErrList(xt, tt, xv, tv, M)\n",
    "    return min(errVal)[1]"
   ]
  },
  {
   "cell_type": "markdown",
   "metadata": {},
   "source": [
    "Let's start first by creating our dataset for $N=10$, and see our results."
   ]
  },
  {
   "cell_type": "code",
   "execution_count": 333,
   "metadata": {},
   "outputs": [
    {
     "data": {
      "image/png": "[encoded data removed]",
      "text/plain": [
       "<Figure size 432x288 with 1 Axes>"
      ]
     },
     "metadata": {
      "needs_background": "light"
     },
     "output_type": "display_data"
    }
   ],
   "source": [
    "def scatterData(train_x, train_t, test_x, test_t, valid_x, valid_t) -> None:\n",
    "    plt.scatter(train_x, train_t, c='orange')\n",
    "    plt.scatter(test_x, test_t, c='red')\n",
    "    plt.scatter(valid_x, valid_t, c='green')\n",
    "    plt.plot(np.linspace(0,1,100),np.sin(2*np.pi*np.linspace(0,1,100)), c='blue')\n",
    "    plt.legend(['$sin(2\\pi x)$','Training','Test','Validation'])\n",
    "\n",
    "(train_x, train_t),(test_x, test_t), (valid_x, valid_t) = generate3Dataset(10, lambda a:np.sin(2*np.pi*a), 0.03)\n",
    "scatterData(train_x, train_t, test_x, test_t, valid_x, valid_t)"
   ]
  },
  {
   "cell_type": "markdown",
   "metadata": {},
   "source": [
    "Let's now measure the normalized error on the training, test and validation data for different values of $\\lambda$."
   ]
  },
  {
   "cell_type": "code",
   "execution_count": 334,
   "metadata": {},
   "outputs": [
    {
     "data": {
      "image/png": "[encoded data removed]",
      "text/plain": [
       "<Figure size 432x288 with 1 Axes>"
      ]
     },
     "metadata": {
      "needs_background": "light"
     },
     "output_type": "display_data"
    }
   ],
   "source": [
    "def plotErrors(m_val, train_x, train_t, valid_x, valid_t, test_x, test_t) -> None:\n",
    "    errListTrain = [elem[0] for elem in getErrList(train_x, train_t, train_x, train_t, m_val)]\n",
    "    errListValid = [elem[0] for elem in getErrList(train_x, train_t, valid_x, valid_t, m_val)]\n",
    "    errListTest = [elem[0] for elem in getErrList(train_x, train_t, test_x, test_t, m_val)]\n",
    "    errLists = [errListTrain, errListValid, errListTest]\n",
    "    for errList in errLists:\n",
    "        plt.plot(np.log(lambdaRange), errList)\n",
    "    plt.ylabel('Normalized error')\n",
    "    plt.xlabel('$log(\\lambda)$')\n",
    "    plt.legend(['training', 'validation', 'test'])\n",
    "\n",
    "m_val = 9\n",
    "plotErrors(m_val, train_x, train_t, valid_x, valid_t, test_x, test_t)"
   ]
  },
  {
   "cell_type": "markdown",
   "metadata": {},
   "source": [
    "We can see that the normalized error on the training data is low from the begining. That makes sense since that's the data on which we believe there's overfitting. For small values of $\\lambda$ the normalized error on the validation and test data is quite high. But decreases as we increase the value of $\\lambda$. Let's see now how the plot looks with the optimal value of $\\lambda$."
   ]
  },
  {
   "cell_type": "code",
   "execution_count": 336,
   "metadata": {},
   "outputs": [
    {
     "data": {
      "image/png": "[encoded data removed]",
      "text/plain": [
       "<Figure size 432x288 with 1 Axes>"
      ]
     },
     "metadata": {
      "needs_background": "light"
     },
     "output_type": "display_data"
    }
   ],
   "source": [
    "def plotOptimize(train_x, train_t, valid_x, valid_t, m_val) -> None:\n",
    "    lambda_opt = optimizePLSLambda(train_x, train_t, valid_x, valid_t, m_val)\n",
    "    w_reg = optimizePLS(train_x, train_t, m_val, lambda_opt)\n",
    "    plt.plot(np.linspace(0,1,100), [polyFunc(x_i, w_reg) for x_i in np.linspace(0,1,100)])\n",
    "    plt.scatter(train_x, train_t)\n",
    "    plt.scatter(valid_x, valid_t)\n",
    "    plt.plot(np.linspace(0,1,100),np.sin(2*np.pi*np.linspace(0,1,100)))\n",
    "    plt.legend(['polynom', '$sin(2\\pi x)$', 'training', 'validation'])\n",
    "\n",
    "plotOptimize(train_x, train_t, valid_x, valid_t, m_val)"
   ]
  },
  {
   "cell_type": "markdown",
   "metadata": {},
   "source": [
    "Let's now observe the same graphs for $N=100$."
   ]
  },
  {
   "cell_type": "code",
   "execution_count": 338,
   "metadata": {},
   "outputs": [
    {
     "data": {
      "image/png": "[encoded data removed]",
      "text/plain": [
       "<Figure size 432x288 with 1 Axes>"
      ]
     },
     "metadata": {
      "needs_background": "light"
     },
     "output_type": "display_data"
    }
   ],
   "source": [
    "(train_x, train_t),(test_x, test_t), (valid_x, valid_t) = generate3Dataset(100, lambda a:np.sin(2*np.pi*a), 0.03)\n",
    "scatterData(train_x, train_t, test_x, test_t, valid_x, valid_t)"
   ]
  },
  {
   "cell_type": "code",
   "execution_count": 339,
   "metadata": {},
   "outputs": [
    {
     "data": {
      "image/png": "[encoded data removed]",
      "text/plain": [
       "<Figure size 432x288 with 1 Axes>"
      ]
     },
     "metadata": {
      "needs_background": "light"
     },
     "output_type": "display_data"
    }
   ],
   "source": [
    "plotErrors(m_val, train_x, train_t, valid_x, valid_t, test_x, test_t)"
   ]
  },
  {
   "cell_type": "code",
   "execution_count": 340,
   "metadata": {},
   "outputs": [
    {
     "data": {
      "image/png": "[encoded data removed]",
      "text/plain": [
       "<Figure size 432x288 with 1 Axes>"
      ]
     },
     "metadata": {
      "needs_background": "light"
     },
     "output_type": "display_data"
    }
   ],
   "source": [
    "plotOptimize(train_x, train_t, valid_x, valid_t, m_val)"
   ]
  },
  {
   "cell_type": "markdown",
   "metadata": {},
   "source": [
    "We can see that we have more data, we have less need for regularization. That is probably because a large dataset is more representative. We can see that the normalized error is very small for all values of $\\lambda$, and while it slightly lower on the training data, we can observe that even without regularization we could've obtained pretty good results."
   ]
  },
  {
   "cell_type": "markdown",
   "metadata": {},
   "source": [
    "### 2.4 Proabilistic regression framework\n",
    "This time, instead of estimating using maximum likelihood to find an optimal value for $w$, we will use bayesian estimation, as we've seen that maximum likelihood can cause overfitting. We will calculate two functions $m(x)$ and $v(x)$ which will be our estimation for the distribution in a given point $x$."
   ]
  },
  {
   "cell_type": "code",
   "execution_count": 57,
   "metadata": {},
   "outputs": [],
   "source": [
    "def bayesianEstimator(x: np.array, t: np.array, M: int, alpha: float, sigma2: float) -> Tuple[Callable, Callable]:\n",
    "    rowVecMat = getPhiMat(x, M)\n",
    "    s_inverse = alpha*np.identity(M+1) + (1/sigma2)*sum([np.outer(rowVecMat[i], rowVecMat[i].T) for i in range(len(x))])\n",
    "    s = np.linalg.inv(s_inverse)\n",
    "    \n",
    "    def mean(curr_x: float) -> float:\n",
    "        ans = sum([rowVecMat[i]*t[i] for i in range(len(x))])\n",
    "        ans = np.dot(s, ans)\n",
    "        ans = np.dot(np.array([curr_x**m for m in range(M+1)]), ans)\n",
    "        ans = ans * (1/sigma2)\n",
    "        return ans\n",
    "    \n",
    "    def variance(curr_x: float) -> float:\n",
    "        ans = np.dot(s, np.array([curr_x**m for m in range(M+1)]))\n",
    "        ans = np.dot(np.array([curr_x**m for m in range(M+1)]).T, ans)\n",
    "        return sigma2 + ans\n",
    "    \n",
    "    return mean, variance"
   ]
  },
  {
   "cell_type": "markdown",
   "metadata": {},
   "source": [
    "Next, we'll create a function for plotting the mean function calculated, and the confidence interval around it. Which will be one standard deviation in each direction."
   ]
  },
  {
   "cell_type": "code",
   "execution_count": 54,
   "metadata": {},
   "outputs": [],
   "source": [
    "alpha = 0.005\n",
    "sigma2 = 1/11.1\n",
    "M = 9\n",
    "def plotBayesian(N: int) -> None:\n",
    "    (train_x, train_t),(test_x, test_t), (valid_x, valid_t) = generate3Dataset(N, lambda a:np.sin(2*np.pi*a), 0.03)\n",
    "    m ,v = bayesianEstimator(train_x, train_t, M, alpha, sigma2)\n",
    "    x_vals = np.linspace(0, 1, 100)\n",
    "    plt.scatter(train_x, train_t, marker='.')\n",
    "    plt.plot(x_vals, np.sin(2*np.pi*x_vals))\n",
    "    plt.plot(x_vals, [m(x) for x in x_vals])\n",
    "    plt.fill_between(x_vals,[m(x)-np.sqrt(v(x)) for x in x_vals],[m(x)+np.sqrt(v(x)) for x in x_vals], alpha=0.4, color='r')\n",
    "    plt.legend(['$sin(2\\pi x)$','mean','Training data','confidence interval'])"
   ]
  },
  {
   "cell_type": "markdown",
   "metadata": {},
   "source": [
    "Let's see the plot first for $N=100$."
   ]
  },
  {
   "cell_type": "code",
   "execution_count": 55,
   "metadata": {},
   "outputs": [
    {
     "data": {
      "image/png": "[encoded data removed]",
      "text/plain": [
       "<Figure size 432x288 with 1 Axes>"
      ]
     },
     "metadata": {
      "needs_background": "light"
     },
     "output_type": "display_data"
    }
   ],
   "source": [
    "plotBayesian(100)"
   ]
  },
  {
   "cell_type": "markdown",
   "metadata": {},
   "source": [
    "We can see that our mean is very close to the actual function, and that the variance is relatively constant around our mean. Let's try now for $N=10$."
   ]
  },
  {
   "cell_type": "code",
   "execution_count": 68,
   "metadata": {},
   "outputs": [
    {
     "data": {
      "image/png": "[encoded data removed]",
      "text/plain": [
       "<Figure size 432x288 with 1 Axes>"
      ]
     },
     "metadata": {
      "needs_background": "light"
     },
     "output_type": "display_data"
    }
   ],
   "source": [
    "plotBayesian(10)"
   ]
  },
  {
   "cell_type": "markdown",
   "metadata": {},
   "source": [
    "As expected, since we have less data, our mean follows our original function less closely, especially in places where there is no data. Also noticable is the fact that on those places the variance is large, indicating that the model is less sure about the median in those places."
   ]
  },
  {
   "cell_type": "code",
   "execution_count": null,
   "metadata": {},
   "outputs": [],
   "source": []
  }
 ],
 "metadata": {
  "kernelspec": {
   "display_name": "Python 3",
   "language": "python",
   "name": "python3"
  },
  "language_info": {
   "codemirror_mode": {
    "name": "ipython",
    "version": 3
   },
   "file_extension": ".py",
   "mimetype": "text/x-python",
   "name": "python",
   "nbconvert_exporter": "python",
   "pygments_lexer": "ipython3",
   "version": "3.7.0"
  }
 },
 "nbformat": 4,
 "nbformat_minor": 2
}
