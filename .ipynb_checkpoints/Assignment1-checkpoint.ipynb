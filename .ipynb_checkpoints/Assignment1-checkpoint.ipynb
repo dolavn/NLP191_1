{
 "cells": [
  {
   "cell_type": "markdown",
   "metadata": {},
   "source": [
    "# NLP 191 - Assignment 1\n",
    "### Dolav Nitay - 203598990"
   ]
  },
  {
   "cell_type": "code",
   "execution_count": 44,
   "metadata": {},
   "outputs": [],
   "source": [
    "import nltk, re, pprint\n",
    "import numpy as np\n",
    "from nltk import word_tokenize,sent_tokenize,regexp_tokenize\n",
    "from collections import Counter, defaultdict\n",
    "from typing import List, Dict, Set"
   ]
  },
  {
   "cell_type": "markdown",
   "metadata": {},
   "source": [
    "### 1.1.1 Gathering and cleaning up the data\n",
    "First, let's define some helper functions, to help us find out if a token is a number, and to clean all the punctuations from our data."
   ]
  },
  {
   "cell_type": "code",
   "execution_count": 45,
   "metadata": {},
   "outputs": [],
   "source": [
    "def isNumber(input: str) -> bool:\n",
    "    try:\n",
    "        float(input)\n",
    "        return True\n",
    "    except ValueError:\n",
    "        return False\n",
    "\n",
    "def removePunctuations(input: List[str]) -> List[str]:\n",
    "    return list(filter(lambda word: word not in '.,:-?!;\\``\\'\\'', input))"
   ]
  },
  {
   "cell_type": "markdown",
   "metadata": {},
   "source": [
    "Now, we'll define the method ptb_preprocess, which given a list of files, pre-process them and outputs them in the ptb format."
   ]
  },
  {
   "cell_type": "code",
   "execution_count": 5,
   "metadata": {},
   "outputs": [],
   "source": [
    "def ptb_preprocess(filenames: List[str], top: int = 10000) -> None:\n",
    "    for file_name in filenames:\n",
    "        file = open(file_name)\n",
    "        text = '\\n'.join(file)\n",
    "        sentences = sent_tokenize(text)\n",
    "        words = [word_tokenize(sentence) for sentence in sentences]\n",
    "        c = Counter()\n",
    "        for ind, sentence in enumerate(words):\n",
    "            words[ind] = removePunctuations(words[ind])\n",
    "            for w_ind, word in enumerate(words[ind]):\n",
    "                words[ind][w_ind] = words[ind][w_ind].lower()\n",
    "                if isNumber(word):\n",
    "                    words[ind][w_ind] = 'N'\n",
    "                word = words[ind][w_ind]\n",
    "                c[word] = c[word]+1\n",
    "        common_words = [w for w,occ in c.most_common(top)]\n",
    "        for sent_ind, sent in enumerate(words):\n",
    "            for word_ind, word in enumerate(sent):\n",
    "                if word not in common_words:\n",
    "                    words[sent_ind][word_ind] = '<unk>'\n",
    "        output = open(file_name + '.out', 'w')\n",
    "        for sent in words:\n",
    "            output.write(' '.join(sent))\n",
    "            output.write('\\n')\n",
    "        output.close()\n",
    "\n"
   ]
  },
  {
   "cell_type": "code",
   "execution_count": 6,
   "metadata": {},
   "outputs": [],
   "source": [
    "ptb_preprocess([\"shakespeare_input.txt\"])\n"
   ]
  },
  {
   "cell_type": "markdown",
   "metadata": {},
   "source": [
    "### 1.1.2 Gathering basic statistics\n",
    "Now, let's gather some basic statistics about our data. We'll use the Penn Tree Bank (PTB) dataset, which has been pre-processed to the format we used in part 1.1.1"
   ]
  },
  {
   "cell_type": "code",
   "execution_count": 49,
   "metadata": {},
   "outputs": [],
   "source": [
    "import matplotlib.pyplot as plt\n",
    "import matplotlib\n",
    "%matplotlib inline"
   ]
  },
  {
   "cell_type": "markdown",
   "metadata": {},
   "source": [
    "We'll create a method for reading the ptb data. The method will return the data in an a dictionary, which will contain the list of all the words and characters in the dataset, for easy implementation of n-gram training, and also a list of all the sentences in the dataset. The method will also return a counter object for characters and words for statistics."
   ]
  },
  {
   "cell_type": "code",
   "execution_count": 47,
   "metadata": {},
   "outputs": [],
   "source": [
    "def read_data(name: str) -> Dict:\n",
    "    words_data = open(\"ptb/ptb.\" + name + \".txt\", \"r\", encoding=\"utf8\").read()\n",
    "    chars_data = open(\"ptb/ptb.char.\" + name + \".txt\", \"r\", encoding=\"utf8\").read()\n",
    "    sentences_data = words_data.split('\\n')\n",
    "    sentences_data = [sentence.split() for sentence in sentences_data]\n",
    "    words_tokens = words_data.split()\n",
    "    chars_tokens = chars_data.split()\n",
    "    words_counter = Counter(words_tokens)\n",
    "    chars_counter = Counter(chars_tokens)\n",
    "    words_set = set(words_tokens)\n",
    "    return {'data': words_data, 'words': words_tokens, 'counter': words_counter, 'set': words_set,\n",
    "           'sentences': sentences_data, 'chars': chars_tokens, 'char_counter': chars_counter}\n"
   ]
  },
  {
   "cell_type": "markdown",
   "metadata": {},
   "source": [
    "Now, let's read the training, test and validation data."
   ]
  },
  {
   "cell_type": "code",
   "execution_count": 48,
   "metadata": {},
   "outputs": [],
   "source": [
    "training_data = read_data(\"train\")\n",
    "test_data = read_data(\"test\")\n",
    "validation_data = read_data(\"valid\")"
   ]
  },
  {
   "cell_type": "markdown",
   "metadata": {},
   "source": [
    "First, let's count the number of unique tokens, using the counter object. And the total number of tokens in the training set. Also, let's count the total number of characters in this set, so to count average number of characters per word, and the standard deviation."
   ]
  },
  {
   "cell_type": "code",
   "execution_count": 8,
   "metadata": {},
   "outputs": [
    {
     "name": "stdout",
     "output_type": "stream",
     "text": [
      "Total number of words: 887521\n",
      "Unique number of words: 9999\n",
      "Average occurences of unique tokens: 88.76097609760976\n",
      "Total number of characters: 4975414\n",
      "Average length of each word: 4.653367075257938\n",
      "Standard deviation of word's length: 2.6019161500774306\n"
     ]
    }
   ],
   "source": [
    "print(\"Total number of words:\",len(training_data['words']))\n",
    "print(\"Unique number of words:\",len(training_data['counter']))\n",
    "print(\"Average occurences of unique tokens:\", float(len(training_data['words'])/len(training_data['counter'])))\n",
    "print(\"Total number of characters:\",len(training_data['chars']))\n",
    "print(\"Average length of each word:\",np.average([len(word) for word in training_data['words']]))\n",
    "print(\"Standard deviation of word's length:\",np.std([len(word) for word in training_data['words']]))"
   ]
  },
  {
   "cell_type": "markdown",
   "metadata": {},
   "source": [
    "Now we'll write a function, that will give us the total number of tokens corresponding to the top-N tokens in the data."
   ]
  },
  {
   "cell_type": "code",
   "execution_count": 9,
   "metadata": {},
   "outputs": [],
   "source": [
    "def top_N_tokens(n: int, data: Dict) -> int:\n",
    "    top_tokens = [word for word, count in data['counter'].most_common(n)]\n",
    "    filtered_list = list(filter(lambda word: word in top_tokens, data['words']))\n",
    "    return len(filtered_list)\n"
   ]
  },
  {
   "cell_type": "markdown",
   "metadata": {},
   "source": [
    "And we'll test this function on our training data:"
   ]
  },
  {
   "cell_type": "code",
   "execution_count": 10,
   "metadata": {},
   "outputs": [
    {
     "data": {
      "text/plain": [
       "251694"
      ]
     },
     "execution_count": 10,
     "metadata": {},
     "output_type": "execute_result"
    }
   ],
   "source": [
    "top_N_tokens(10, training_data)"
   ]
  },
  {
   "cell_type": "markdown",
   "metadata": {},
   "source": [
    "Now we'll see how much tokens are in the validation data, but not in the training data, using the set data structure of python."
   ]
  },
  {
   "cell_type": "code",
   "execution_count": 54,
   "metadata": {},
   "outputs": [
    {
     "data": {
      "text/plain": [
       "0"
      ]
     },
     "execution_count": 54,
     "metadata": {},
     "output_type": "execute_result"
    }
   ],
   "source": [
    "len(validation_data['set']-training_data['set'])"
   ]
  },
  {
   "cell_type": "markdown",
   "metadata": {},
   "source": [
    "That's good, all the tokens found in the validation data, also exist in the training data.\n",
    "\n",
    "Now we'll create a function to count n-grams, in order to get statistics about them."
   ]
  },
  {
   "cell_type": "code",
   "execution_count": 12,
   "metadata": {},
   "outputs": [],
   "source": [
    "def count_n_grams(n: int, data: List[str]) -> Dict:\n",
    "    n_gram_list = []\n",
    "    for i in range(len(data)-n):\n",
    "        n_gram_list.append(tuple(data[i:i+n]))\n",
    "    n_gram_counter = Counter(n_gram_list)\n",
    "    return {'list': n_gram_list, 'counter': n_gram_counter}\n"
   ]
  },
  {
   "cell_type": "markdown",
   "metadata": {},
   "source": [
    "Now let's count the number of distinct n-grams of characters and words in our data."
   ]
  },
  {
   "cell_type": "code",
   "execution_count": 13,
   "metadata": {},
   "outputs": [
    {
     "name": "stdout",
     "output_type": "stream",
     "text": [
      "Number of distinct words 2-grams is 277477\n",
      "Number of distinct characters 2-grams is 958\n",
      "Number of distinct words 3-grams is 615618\n",
      "Number of distinct characters 3-grams is 9418\n",
      "Number of distinct words 4-grams is 771492\n",
      "Number of distinct characters 4-grams is 48379\n",
      "Number of distinct words 5-grams is 825370\n",
      "Number of distinct characters 5-grams is 154572\n",
      "Number of distinct words 6-grams is 846671\n",
      "Number of distinct characters 6-grams is 369781\n",
      "Number of distinct words 7-grams is 856939\n",
      "Number of distinct characters 7-grams is 703050\n"
     ]
    }
   ],
   "source": [
    "for i in range(2,8):\n",
    "    c = count_n_grams(i, training_data['words'])['counter']\n",
    "    c2 = count_n_grams(i, training_data['chars'])['counter']\n",
    "    print(\"Number of distinct words {:d}-grams is {:d}\".format(i, len(c)))\n",
    "    print(\"Number of distinct characters {:d}-grams is {:d}\".format(i, len(c2)))"
   ]
  },
  {
   "cell_type": "code",
   "execution_count": 14,
   "metadata": {},
   "outputs": [
    {
     "data": {
      "image/png": "[encoded data removed]",
      "text/plain": [
       "<Figure size 432x288 with 1 Axes>"
      ]
     },
     "metadata": {
      "needs_background": "light"
     },
     "output_type": "display_data"
    }
   ],
   "source": [
    "plt.loglog([val for word,val in training_data['counter'].most_common(4000)])\n",
    "plt.xlabel('rank')\n",
    "plt.ylabel('frequency');"
   ]
  },
  {
   "cell_type": "markdown",
   "metadata": {},
   "source": [
    "### 1.2 $n$-gram word language model\n",
    "We'll now create an usmotheed maximum likelihood word level language level. For each sentence, this model will give us the probability that this sentence belongs to our language."
   ]
  },
  {
   "cell_type": "code",
   "execution_count": 39,
   "metadata": {},
   "outputs": [],
   "source": [
    "from nltk.probability import FreqDist, LidstoneProbDist, MLEProbDist, ProbDistI\n",
    "\n",
    "def train_word_lm1(dataset: List[str], n: int = 2) -> Dict:\n",
    "    prob_map = defaultdict(FreqDist)\n",
    "    dataset = ['*']*n + dataset\n",
    "    for i in range(n, len(dataset)):\n",
    "        word, ngram = dataset[i], tuple(dataset[i-n:i])\n",
    "        prob_map[ngram][word] = prob_map[ngram][word]+1\n",
    "    return prob_map\n",
    "\n",
    "def train_word_lm2(dataset: List[List[str]], n: int = 2) -> Dict:\n",
    "    prob_map = defaultdict(FreqDist)\n",
    "    for sentence in dataset:\n",
    "        sentence = ['*']*n + sentence\n",
    "        for i in range(n, len(sentence)):\n",
    "            word, ngram = sentence[i], tuple(sentence[i-n:i])\n",
    "            prob_map[ngram][word] = prob_map[ngram][word]+1\n",
    "    return prob_map"
   ]
  },
  {
   "cell_type": "code",
   "execution_count": 40,
   "metadata": {},
   "outputs": [],
   "source": [
    "FIRST_N = 1\n",
    "LAST_N = 20\n",
    "vocab_len = 10000\n",
    "s_data = open('shakespeare_input.txt', encoding='utf8').read().split()\n",
    "models = [train_word_lm2(training_data['sentences'],i) for i in range(FIRST_N,LAST_N)]"
   ]
  },
  {
   "cell_type": "markdown",
   "metadata": {},
   "source": [
    "### 1.3 Language model evaluation\n",
    "After creating our language model we can check how good it is using perplexity. But before we can do that, we must use smoothing on our model. Why? Right now if an $n$-gram didn't occour at all in our training set, it's probability will be 0, and we wouldn't be able to calculate the perplexity. One such smoothing method is the Lidstone smoothing method, in which we add $\\gamma$  ($0<\\gamma\\leq 1$) to the count of each event (Both seen and unseen events). "
   ]
  },
  {
   "cell_type": "code",
   "execution_count": 41,
   "metadata": {},
   "outputs": [],
   "source": [
    "from math import log\n",
    "\n",
    "def get_entropy(dataset: List[str], prob_funcs: List[Dict], gamma: float = 0, n: int=2) -> float:\n",
    "    dataset = ['*']*n + dataset\n",
    "    ans = 0\n",
    "    prob_func = prob_funcs[n-FIRST_N]\n",
    "    if n==0:\n",
    "        return -log(1/float(vocab_len), 2)\n",
    "    for i in range(n, len(dataset)):\n",
    "        word, ngram = dataset[i], tuple(dataset[i-n:i])\n",
    "        p = LidstoneProbDist(prob_func[ngram], gamma, bins=vocab_len)\n",
    "        ans = ans + log(p.prob(word), 2)\n",
    "    return -ans/(len(dataset)-n+1)\n",
    "\n",
    "def get_perplexity(dataset: List[str], prob_funcs: List[Dict], gamma: int = 1, n: int=FIRST_N) -> float:\n",
    "    return 2**get_entropy(dataset, prob_funcs, gamma, n)\n"
   ]
  },
  {
   "cell_type": "code",
   "execution_count": 42,
   "metadata": {},
   "outputs": [
    {
     "data": {
      "text/plain": [
       "[<matplotlib.lines.Line2D at 0x213ce59fc50>]"
      ]
     },
     "execution_count": 42,
     "metadata": {},
     "output_type": "execute_result"
    },
    {
     "data": {
      "image/png": "[encoded data removed]",
      "text/plain": [
       "<Figure size 432x288 with 1 Axes>"
      ]
     },
     "metadata": {
      "needs_background": "light"
     },
     "output_type": "display_data"
    }
   ],
   "source": [
    "gammas = [(i+1)/20 for i in range(20)]\n",
    "\n",
    "perplexities = [get_perplexity(validation_data['words'], models, gamma=i) for i in gammas]\n",
    "plt.xlabel('$\\gamma$')\n",
    "plt.ylabel('perplexity')\n",
    "plt.plot(gammas, perplexities)\n"
   ]
  },
  {
   "cell_type": "code",
   "execution_count": 21,
   "metadata": {},
   "outputs": [
    {
     "data": {
      "text/plain": [
       "[<matplotlib.lines.Line2D at 0x213c6d2a4e0>]"
      ]
     },
     "execution_count": 21,
     "metadata": {},
     "output_type": "execute_result"
    },
    {
     "data": {
      "image/png": "[encoded data removed]",
      "text/plain": [
       "<Figure size 432x288 with 1 Axes>"
      ]
     },
     "metadata": {
      "needs_background": "light"
     },
     "output_type": "display_data"
    }
   ],
   "source": [
    "ns = range(FIRST_N,LAST_N)\n",
    "\n",
    "perplexities = [get_perplexity(validation_data['words'], models, n=i) for i in ns]\n",
    "plt.xlabel('$n$')\n",
    "plt.ylabel('perplexity')\n",
    "plt.plot(ns, perplexities)\n"
   ]
  },
  {
   "cell_type": "code",
   "execution_count": 22,
   "metadata": {},
   "outputs": [
    {
     "data": {
      "text/plain": [
       "9999.999999999995"
      ]
     },
     "execution_count": 22,
     "metadata": {},
     "output_type": "execute_result"
    }
   ],
   "source": [
    "get_perplexity(validation_data['words'],models,n=0)"
   ]
  },
  {
   "cell_type": "code",
   "execution_count": 24,
   "metadata": {},
   "outputs": [
    {
     "data": {
      "text/plain": [
       "\"you will not panic you will not put the financial system in jeopardy but the prospects for legislation that targets program trading is unlikely anytime soon many people including the big board think that it 's too late to put the <unk> back in the bottle the big board 's directors meet today to approve some program-trading restrictions but a total ban is n't being considered big board officials say you 're not going to stop the idea of trading a basket of stocks says <unk> 's prof. stoll program trading is here to stay and computers are here to stay and\""
      ]
     },
     "execution_count": 24,
     "metadata": {},
     "output_type": "execute_result"
    }
   ],
   "source": [
    "OUTPUT_LEN = 100\n",
    "\n",
    "def generate(model: Dict, seed: str) -> str:\n",
    "    ans = seed\n",
    "    model_ind = [i for i, m in enumerate(models) if m is model][0]\n",
    "    curr_n_gram = seed.split()\n",
    "    if(len(curr_n_gram)>model_ind+FIRST_N):\n",
    "        curr_n_gram = curr_n_gram[-model_ind-FIRST_N:]\n",
    "    if(len(curr_n_gram)<model_ind+FIRST_N):\n",
    "        curr_n_gram = ['*']*(model_ind+FIRST_N-len(curr_n_gram))+curr_n_gram\n",
    "    for i in range(OUTPUT_LEN):\n",
    "        app_n_gram = curr_n_gram\n",
    "        app_model = model\n",
    "        curr_ind = model_ind\n",
    "        while len(app_model[tuple(app_n_gram)])==0:\n",
    "            curr_ind = curr_ind - 1\n",
    "            app_model = models[curr_ind]\n",
    "            app_n_gram = app_n_gram[1:]\n",
    "        p = LidstoneProbDist(app_model[tuple(app_n_gram)], 0.1, bins=vocab_len)\n",
    "        for j in range(len(curr_n_gram)-1):\n",
    "            curr_n_gram[j] = curr_n_gram[j+1]\n",
    "        next_word = p.max()\n",
    "        curr_n_gram[len(curr_n_gram)-1] = next_word\n",
    "        ans = ans + \" \" + next_word\n",
    "    return ans\n",
    "generate(models[6], \"you will\")"
   ]
  },
  {
   "cell_type": "code",
   "execution_count": 25,
   "metadata": {},
   "outputs": [],
   "source": [
    "class TemperatureProb(ProbDistI):\n",
    "    SUM_TO_ONE = False\n",
    "    def __init__(self, origDist, temperature):\n",
    "        self._origDist = origDist\n",
    "        self._temperature = float(temperature)\n",
    "        self._deviator = 0\n",
    "        for sample in self._origDist.samples():\n",
    "            p = self._origDist.prob(sample)**(1/self._temperature)\n",
    "            self._deviator = self._deviator + p\n",
    "\n",
    "\n",
    "    def freqdist(self):\n",
    "        \"\"\"\n",
    "        Return the frequency distribution that this probability\n",
    "        distribution is based on.\n",
    "\n",
    "        :rtype: FreqDist\n",
    "        \"\"\"\n",
    "        return self._origDist\n",
    "\n",
    "\n",
    "\n",
    "    def prob(self, sample):\n",
    "        c = (self._origDist.prob(sample)**(1/self._temperature))/(self._deviator)\n",
    "        return c\n",
    "\n",
    "\n",
    "\n",
    "    def max(self):\n",
    "        # The maximum remains the same as in the original distribution\n",
    "        return self._origDist.max()\n",
    "\n",
    "\n",
    "\n",
    "    def samples(self):\n",
    "        return self._origDist.samples()\n",
    "\n",
    "\n",
    "    def __repr__(self):\n",
    "        \"\"\"\n",
    "        Return a string representation of this ``ProbDist``.\n",
    "\n",
    "        :rtype: str\n",
    "        \"\"\"\n",
    "        return '<TempeatureProbability temp={0}>'.format(self._temperature)\n"
   ]
  },
  {
   "cell_type": "code",
   "execution_count": 34,
   "metadata": {},
   "outputs": [
    {
     "data": {
      "text/plain": [
       "\"was pretty clear that judge bork never stood much chance of being confirmed as mr. bronner himself says the <unk> of raw meat was in the air perhaps because they won mr. bork 's <unk> come through more <unk> than his defenders ralph <unk> was the organizing <unk> <unk> a conglomerate of pressure groups into an <unk> attacking force harvard 's laurence tribe was the constitutional heavy laying out legal strategies for the senators and witnesses to follow but it was ted kennedy who scored most effectively with his <unk> portrayal of robert bork 's america the parade of <unk> <unk>\""
      ]
     },
     "execution_count": 34,
     "metadata": {},
     "output_type": "execute_result"
    }
   ],
   "source": [
    "OUTPUT_LEN = 100\n",
    "\n",
    "def generate(model: Dict, seed: str, temperature: float) -> str:\n",
    "    ans = seed\n",
    "    model_ind = [i for i, m in enumerate(models) if m is model][0]\n",
    "    curr_n_gram = seed.split()\n",
    "    if(len(curr_n_gram)>model_ind+FIRST_N):\n",
    "        curr_n_gram = curr_n_gram[-model_ind-FIRST_N:]\n",
    "    if(len(curr_n_gram)<model_ind+FIRST_N):\n",
    "        curr_n_gram = ['*']*(model_ind+FIRST_N-len(curr_n_gram))+curr_n_gram\n",
    "    for i in range(OUTPUT_LEN):\n",
    "        app_n_gram = curr_n_gram\n",
    "        app_model = model\n",
    "        curr_ind = model_ind\n",
    "        while len(app_model[tuple(app_n_gram)])==0:\n",
    "            curr_ind = curr_ind - 1\n",
    "            app_model = models[curr_ind]\n",
    "            app_n_gram = app_n_gram[1:]\n",
    "        p1 = LidstoneProbDist(app_model[tuple(app_n_gram)], 0.5, bins=vocab_len)\n",
    "        p = TemperatureProb(p1, temperature)\n",
    "        for j in range(len(curr_n_gram)-1):\n",
    "            curr_n_gram[j] = curr_n_gram[j+1]\n",
    "        next_word = p.generate()\n",
    "        curr_n_gram[len(curr_n_gram)-1] = next_word\n",
    "        ans = ans + \" \" + next_word\n",
    "    return ans\n",
    "generate(models[6], \"was\", 1)"
   ]
  },
  {
   "cell_type": "markdown",
   "metadata": {},
   "source": [
    "### 1.4 Character language model\n",
    "In this part we will work on a character level language model.\n",
    "\n",
    "#### 1.4.1\n",
    "####  The Unreasonable Effectiveness of Recurrent Neural Networks\n",
    "In this article, Andrej Karpathy introdouces us to the model of RNN(Recurrent Neural Networks). In this model, the neural network accepts a sequence of vectors as an input, rather than a single vector, and also outputs a sequence of vectors. The RNN works by accepting a single vector every time, but the output is influenced not only by that vector, but also by the entire history of vectors that were inputted prior to that vector. In his article Andrej trained his model on a few examples. Some basic examples like Shakespear texts, on which we saw that a basic n-gram model could perform nicely. But the more suprising examples were how the RNN learned advanced syntax in his examples. For example, the RNN was trained on an algebra book written in latex format, and could create his own latex book, which almost compiled. He was also trained on the linux' kernel code, in which the RNN learned how to properly indent his code, and also learned how to open and close his brackets properly. (Which would require a long history to remember in an n-gram model). Another suprising finding was seeing how some neurons in the RNN were adjusted to learning specific tasks. For example, a specific neuron tuned itself to keeping track when inside and outside of comments in c code, or another neuron tuned itself to keep track when in if statements. Those kind of abilities couldn't be achieved with a normal n-gram model."
   ]
  },
  {
   "cell_type": "code",
   "execution_count": 22,
   "metadata": {},
   "outputs": [],
   "source": [
    "import os\n",
    "\n",
    "DIR_NAME = \"cooking\"\n",
    "RECIPE_START = \"MMMMM-----\"\n",
    "RECIPE_END = \"MMMMM\"\n",
    "\n",
    "def recipe_reader() -> List[str]:\n",
    "    files_list = os.listdir(DIR_NAME)\n",
    "    recipes_list = []\n",
    "    curr_recipe = ''\n",
    "    for file in files_list:\n",
    "        path = DIR_NAME + '/' + file\n",
    "        text = open(path, encoding='utf-8').read().split('\\n')\n",
    "        for line in text:\n",
    "            if RECIPE_START in line:\n",
    "                continue\n",
    "            if RECIPE_END in line:\n",
    "                recipes_list.append(curr_recipe)\n",
    "                curr_recipe = ''\n",
    "                continue\n",
    "            curr_recipe = curr_recipe.lower() + line + '\\n'\n",
    "    return recipes_list\n",
    "\n",
    "recipes_list = recipe_reader()\n",
    "recipes_tokenized = [removePunctuations(word_tokenize(recipe)) for recipe in recipes_list]"
   ]
  },
  {
   "cell_type": "code",
   "execution_count": 23,
   "metadata": {},
   "outputs": [],
   "source": [
    "lengthsCounter = Counter([len(recipe) for recipe in recipes_list])\n",
    "numOfWordsCounter = Counter([len(recipe) for recipe in recipes_tokenized])\n",
    "wordsCounter = Counter()\n",
    "wordsLengthCounter = Counter()\n",
    "for recipe in recipes_tokenized:\n",
    "    for word in recipe:\n",
    "        wordsCounter[word] = wordsCounter[word] + 1\n",
    "        wordsLengthCounter[len(word)] = wordsLengthCounter[len(word)]+1"
   ]
  },
  {
   "cell_type": "markdown",
   "metadata": {},
   "source": [
    "Let's gather some statistics about our recipes.\n",
    "First, the number of recipes:"
   ]
  },
  {
   "cell_type": "code",
   "execution_count": 24,
   "metadata": {},
   "outputs": [
    {
     "data": {
      "text/plain": [
       "32965"
      ]
     },
     "execution_count": 24,
     "metadata": {},
     "output_type": "execute_result"
    }
   ],
   "source": [
    "len(recipes_list)"
   ]
  },
  {
   "cell_type": "markdown",
   "metadata": {},
   "source": [
    "The total number of characters:"
   ]
  },
  {
   "cell_type": "code",
   "execution_count": 25,
   "metadata": {},
   "outputs": [
    {
     "data": {
      "text/plain": [
       "35960542"
      ]
     },
     "execution_count": 25,
     "metadata": {},
     "output_type": "execute_result"
    }
   ],
   "source": [
    "sum([len(recipe) for recipe in recipes_list])"
   ]
  },
  {
   "cell_type": "markdown",
   "metadata": {},
   "source": [
    "The total number of tokens in our recipes:"
   ]
  },
  {
   "cell_type": "code",
   "execution_count": 26,
   "metadata": {},
   "outputs": [
    {
     "data": {
      "text/plain": [
       "5733825"
      ]
     },
     "execution_count": 26,
     "metadata": {},
     "output_type": "execute_result"
    }
   ],
   "source": [
    "sum([len(recipe) for recipe in recipes_tokenized])"
   ]
  },
  {
   "cell_type": "markdown",
   "metadata": {},
   "source": [
    "The size of our vocabulary:"
   ]
  },
  {
   "cell_type": "code",
   "execution_count": 27,
   "metadata": {},
   "outputs": [
    {
     "data": {
      "text/plain": [
       "70452"
      ]
     },
     "execution_count": 27,
     "metadata": {},
     "output_type": "execute_result"
    }
   ],
   "source": [
    "len(wordsCounter.most_common())"
   ]
  },
  {
   "cell_type": "code",
   "execution_count": 28,
   "metadata": {},
   "outputs": [
    {
     "data": {
      "text/plain": [
       "<BarContainer object of 2939 artists>"
      ]
     },
     "execution_count": 28,
     "metadata": {},
     "output_type": "execute_result"
    },
    {
     "data": {
      "image/png": "[encoded data removed]",
      "text/plain": [
       "<Figure size 432x288 with 1 Axes>"
      ]
     },
     "metadata": {
      "needs_background": "light"
     },
     "output_type": "display_data"
    }
   ],
   "source": [
    "plt.xlabel(\"Number of characters in recipe\")\n",
    "plt.bar([tup[0] for tup in lengthsCounter.most_common()], [tup[1] for tup in lengthsCounter.most_common()])"
   ]
  },
  {
   "cell_type": "code",
   "execution_count": 29,
   "metadata": {},
   "outputs": [
    {
     "data": {
      "text/plain": [
       "<BarContainer object of 713 artists>"
      ]
     },
     "execution_count": 29,
     "metadata": {},
     "output_type": "execute_result"
    },
    {
     "data": {
      "image/png": "[encoded data removed]",
      "text/plain": [
       "<Figure size 432x288 with 1 Axes>"
      ]
     },
     "metadata": {
      "needs_background": "light"
     },
     "output_type": "display_data"
    }
   ],
   "source": [
    "plt.xlabel(\"Number of words in recipe\")\n",
    "plt.bar([tup[0] for tup in numOfWordsCounter.most_common()], [tup[1] for tup in numOfWordsCounter.most_common()])"
   ]
  },
  {
   "cell_type": "code",
   "execution_count": 30,
   "metadata": {},
   "outputs": [
    {
     "data": {
      "text/plain": [
       "<BarContainer object of 53 artists>"
      ]
     },
     "execution_count": 30,
     "metadata": {},
     "output_type": "execute_result"
    },
    {
     "data": {
      "image/png": "[encoded data removed]",
      "text/plain": [
       "<Figure size 432x288 with 1 Axes>"
      ]
     },
     "metadata": {
      "needs_background": "light"
     },
     "output_type": "display_data"
    }
   ],
   "source": [
    "plt.xlabel(\"Length of word\")\n",
    "plt.bar([tup[0] for tup in wordsLengthCounter.most_common()], [tup[1] for tup in wordsLengthCounter.most_common()])"
   ]
  },
  {
   "cell_type": "code",
   "execution_count": 31,
   "metadata": {},
   "outputs": [],
   "source": [
    "train_recipes = recipes_list[:(int)(0.8*len(recipes_list))]\n",
    "test_recipes = recipes_list[(int)(0.8*len(recipes_list)):(int)(0.9*len(recipes_list))]\n",
    "dev_recipes = recipes_list[(int)(0.9*len(recipes_list)):]"
   ]
  },
  {
   "cell_type": "code",
   "execution_count": 32,
   "metadata": {},
   "outputs": [],
   "source": [
    "orders = [20]\n",
    "FINAL_CHAR = '~'\n",
    "def train_char_lm(dataset: str, prob_map: Dict, n: int = 4) -> None:\n",
    "    dataset = '*'*n + dataset + FINAL_CHAR*n\n",
    "    for i in range(n, len(dataset)):\n",
    "        char, ngram = dataset[i], tuple(dataset[i-n:i])\n",
    "        prob_map[ngram][char] = prob_map[ngram][char]+1\n",
    "\n"
   ]
  },
  {
   "cell_type": "code",
   "execution_count": 33,
   "metadata": {},
   "outputs": [
    {
     "name": "stdout",
     "output_type": "stream",
     "text": [
      "26372\n"
     ]
    }
   ],
   "source": [
    "freq_dists = [defaultdict(FreqDist) for order in orders]\n",
    "print(len(train_recipes))\n",
    "prob_maps = [defaultdict(MLEProbDist) for order in orders]\n",
    "for recipe in train_recipes:\n",
    "    for ind, order in enumerate(orders):\n",
    "        train_char_lm(recipe, freq_dists[ind], order)\n",
    "for ind,m in enumerate(prob_maps):\n",
    "    for key in freq_dists[ind]:\n",
    "        prob_maps[ind][key] = MLEProbDist(freq_dists[ind][key])"
   ]
  },
  {
   "cell_type": "code",
   "execution_count": 34,
   "metadata": {},
   "outputs": [],
   "source": [
    "def generate(model: Dict) -> str:\n",
    "    ans = \"\"\n",
    "    curr_n_gram = ['*' for c in range(n)]\n",
    "    next_char = ''\n",
    "    while True:\n",
    "        next_char = model[tuple(curr_n_gram)].generate()\n",
    "        if next_char == FINAL_CHAR:\n",
    "            break\n",
    "        curr_n_gram = curr_n_gram[1:] + [next_char]\n",
    "        ans = ans + next_char\n",
    "        if(len(ans)>10000):\n",
    "            print(\"stop\")\n",
    "            break\n",
    "    return ans\n",
    "\n",
    "ind = 0\n",
    "n = orders[ind]"
   ]
  },
  {
   "cell_type": "code",
   "execution_count": 43,
   "metadata": {},
   "outputs": [
    {
     "ename": "NameError",
     "evalue": "name 'prob_maps' is not defined",
     "output_type": "error",
     "traceback": [
      "\u001b[1;31m---------------------------------------------------------------------------\u001b[0m",
      "\u001b[1;31mNameError\u001b[0m                                 Traceback (most recent call last)",
      "\u001b[1;32m<ipython-input-43-3ceebc811dc1>\u001b[0m in \u001b[0;36m<module>\u001b[1;34m()\u001b[0m\n\u001b[1;32m----> 1\u001b[1;33m \u001b[0mprint\u001b[0m\u001b[1;33m(\u001b[0m\u001b[0mgenerate\u001b[0m\u001b[1;33m(\u001b[0m\u001b[0mprob_maps\u001b[0m\u001b[1;33m[\u001b[0m\u001b[0mind\u001b[0m\u001b[1;33m]\u001b[0m\u001b[1;33m)\u001b[0m\u001b[1;33m)\u001b[0m\u001b[1;33m\u001b[0m\u001b[0m\n\u001b[0m",
      "\u001b[1;31mNameError\u001b[0m: name 'prob_maps' is not defined"
     ]
    }
   ],
   "source": [
    "print(generate(prob_maps[ind]))"
   ]
  },
  {
   "cell_type": "code",
   "execution_count": null,
   "metadata": {},
   "outputs": [],
   "source": []
  },
  {
   "cell_type": "code",
   "execution_count": null,
   "metadata": {},
   "outputs": [],
   "source": []
  }
 ],
 "metadata": {
  "kernelspec": {
   "display_name": "Python 3",
   "language": "python",
   "name": "python3"
  },
  "language_info": {
   "codemirror_mode": {
    "name": "ipython",
    "version": 3
   },
   "file_extension": ".py",
   "mimetype": "text/x-python",
   "name": "python",
   "nbconvert_exporter": "python",
   "pygments_lexer": "ipython3",
   "version": "3.7.0"
  }
 },
 "nbformat": 4,
 "nbformat_minor": 2
}
